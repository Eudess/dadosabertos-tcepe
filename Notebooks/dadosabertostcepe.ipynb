{
  "nbformat": 4,
  "nbformat_minor": 0,
  "metadata": {
    "colab": {
      "name": "dadosabertostcepe.ipynb",
      "provenance": [],
      "collapsed_sections": [],
      "authorship_tag": "ABX9TyPK+U1G99KxVt6/5mF0f6uA"
    },
    "kernelspec": {
      "name": "python3",
      "display_name": "Python 3"
    },
    "language_info": {
      "name": "python"
    }
  },
  "cells": [
    {
      "cell_type": "code",
      "metadata": {
        "colab": {
          "base_uri": "https://localhost:8080/"
        },
        "id": "rbAN7Ml4tc2m",
        "outputId": "5e4a842f-b0e3-4165-eb0a-bc772015e48c"
      },
      "source": [
        "!rm -r dadosabertos-tcepe\n",
        "!git clone https://github.com/Eudess/dadosabertos-tcepe.git"
      ],
      "execution_count": 2,
      "outputs": [
        {
          "output_type": "stream",
          "text": [
            "rm: cannot remove 'dadosabertos-tcepe': No such file or directory\n",
            "Cloning into 'dadosabertos-tcepe'...\n",
            "remote: Enumerating objects: 154, done.\u001b[K\n",
            "remote: Counting objects: 100% (13/13), done.\u001b[K\n",
            "remote: Compressing objects: 100% (8/8), done.\u001b[K\n",
            "remote: Total 154 (delta 2), reused 13 (delta 2), pack-reused 141\u001b[K\n",
            "Receiving objects: 100% (154/154), 1.78 GiB | 38.47 MiB/s, done.\n",
            "Resolving deltas: 100% (25/25), done.\n",
            "Checking out files: 100% (87/87), done.\n"
          ],
          "name": "stdout"
        }
      ]
    },
    {
      "cell_type": "code",
      "metadata": {
        "id": "WkovVsr0vnC4"
      },
      "source": [
        "import numpy as np\n",
        "import pandas as pd\n",
        "import re\n",
        "import zipfile"
      ],
      "execution_count": 72,
      "outputs": []
    },
    {
      "cell_type": "code",
      "metadata": {
        "id": "YnAkBWgWBQN4"
      },
      "source": [
        "pd.set_option(\"max_colwidth\", 300)"
      ],
      "execution_count": 4,
      "outputs": []
    },
    {
      "cell_type": "code",
      "metadata": {
        "id": "-IQl2F2z3hwC"
      },
      "source": [
        "def get_file_path(dir1, dir2, file, root=True):\n",
        "  if root:\n",
        "    if dir2:\n",
        "      path = f\"dadosabertos-tcepe/{dir1}/{dir2}/{file}\"\n",
        "    else:\n",
        "      path = f\"dadosabertos-tcepe/{dir1}/{file}\"\n",
        "  else:\n",
        "    path = f\"{dir1}/{dir2}/{file}\"\n",
        "  return path"
      ],
      "execution_count": 5,
      "outputs": []
    },
    {
      "cell_type": "code",
      "metadata": {
        "id": "p6VOSRJk3v0v"
      },
      "source": [
        "def extract_zip_file(path_input, path_output):\n",
        "  with zipfile.ZipFile(path_input, \"r\") as zipref:\n",
        "    zipref.extractall(path_output)"
      ],
      "execution_count": 6,
      "outputs": []
    },
    {
      "cell_type": "code",
      "metadata": {
        "id": "DGdwMxauwmU3"
      },
      "source": [
        "col_regex = {\n",
        "    \"match1\": r\"PAGAMENTO(.+?)[\\,\\.]\",\n",
        "    \"match2\": r\"VALOR(.+?)[\\,\\.]\",\n",
        "}"
      ],
      "execution_count": 52,
      "outputs": []
    },
    {
      "cell_type": "code",
      "metadata": {
        "id": "6Y1ThMry7A0Y"
      },
      "source": [
        "# Contratos\n",
        "path_input = get_file_path(\"Contratos\",\"\", \"Contratos.zip\")\n",
        "path_output = \"Contratos\"\n",
        "extract_zip_file(path_input, path_output)"
      ],
      "execution_count": 8,
      "outputs": []
    },
    {
      "cell_type": "code",
      "metadata": {
        "id": "lMZbDm6T7oOY"
      },
      "source": [
        "# Despesas\n",
        "path_input = get_file_path(\"Despesas\",\"Despesas\", \"2012.zip\")\n",
        "path_output = \"Despesas\"\n",
        "extract_zip_file(path_input, path_output)"
      ],
      "execution_count": 9,
      "outputs": []
    },
    {
      "cell_type": "code",
      "metadata": {
        "id": "5rFiN0Bo8Mao"
      },
      "source": [
        "despesas_2012 = get_file_path(\"Despesas\", \"2012\", \"SCA_Despesas_2012.csv\", root=False)"
      ],
      "execution_count": 10,
      "outputs": []
    },
    {
      "cell_type": "code",
      "metadata": {
        "id": "b0z8j9lQ8qGi"
      },
      "source": [
        "df_desp_12 = pd.read_csv(despesas_2012, sep=\"|\")"
      ],
      "execution_count": 58,
      "outputs": []
    },
    {
      "cell_type": "code",
      "metadata": {
        "id": "OQ6C7M80GQ3R"
      },
      "source": [
        "def regexText(text):\n",
        "  new_text = re.search(col_regex[\"match1\"], text)\n",
        "  if not new_text:\n",
        "    new_text = re.search(col_regex[\"match2\"], text)\n",
        "       \n",
        "  return new_text.group(1) if new_text else text"
      ],
      "execution_count": 59,
      "outputs": []
    },
    {
      "cell_type": "code",
      "metadata": {
        "id": "KnQS2wXR070K"
      },
      "source": [
        "df_desp_12[\"HISTORICO\"] = df_desp_12[\"HISTORICO\"].apply(regexText)"
      ],
      "execution_count": 60,
      "outputs": []
    },
    {
      "cell_type": "code",
      "metadata": {
        "colab": {
          "base_uri": "https://localhost:8080/"
        },
        "id": "R7f4nEX6OTqY",
        "outputId": "ae697a44-6a3a-469b-be86-803f6cc46174"
      },
      "source": [
        "any(df_desp_12[\"HISTORICO\"] == np.nan)"
      ],
      "execution_count": 73,
      "outputs": [
        {
          "output_type": "execute_result",
          "data": {
            "text/plain": [
              "False"
            ]
          },
          "metadata": {
            "tags": []
          },
          "execution_count": 73
        }
      ]
    },
    {
      "cell_type": "code",
      "metadata": {
        "colab": {
          "base_uri": "https://localhost:8080/",
          "height": 513
        },
        "id": "ejbbCHHz13Zj",
        "outputId": "8d2e237f-4ad6-4b01-88a0-321146054f11"
      },
      "source": [
        "df_desp_12.head()"
      ],
      "execution_count": 62,
      "outputs": [
        {
          "output_type": "execute_result",
          "data": {
            "text/html": [
              "<div>\n",
              "<style scoped>\n",
              "    .dataframe tbody tr th:only-of-type {\n",
              "        vertical-align: middle;\n",
              "    }\n",
              "\n",
              "    .dataframe tbody tr th {\n",
              "        vertical-align: top;\n",
              "    }\n",
              "\n",
              "    .dataframe thead th {\n",
              "        text-align: right;\n",
              "    }\n",
              "</style>\n",
              "<table border=\"1\" class=\"dataframe\">\n",
              "  <thead>\n",
              "    <tr style=\"text-align: right;\">\n",
              "      <th></th>\n",
              "      <th>ID_EMPENHO</th>\n",
              "      <th>ANO_REFERENCIA</th>\n",
              "      <th>ID_UNIDADE_GESTORA</th>\n",
              "      <th>NUMERO_EMPENHO</th>\n",
              "      <th>HISTORICO</th>\n",
              "      <th>CODIGO_UNIDADE_ORCAMENTARIA</th>\n",
              "      <th>UNIDADE_ORCAMENTARIA</th>\n",
              "      <th>CODIGO_FUNCAO</th>\n",
              "      <th>FUNCAO</th>\n",
              "      <th>CODIGO_SUBFUNCAO</th>\n",
              "      <th>SUBFUNCAO</th>\n",
              "      <th>CODIGO_PROGRAMA</th>\n",
              "      <th>PROGRAMA</th>\n",
              "      <th>CODIGO_ACAO</th>\n",
              "      <th>ACAO</th>\n",
              "      <th>CODIGO_CATEGORIA</th>\n",
              "      <th>CATEGORIA</th>\n",
              "      <th>CODIGO_NATUREZA</th>\n",
              "      <th>NATUREZA</th>\n",
              "      <th>CODIGO_MODALIDADE</th>\n",
              "      <th>MODALIDADE</th>\n",
              "      <th>CODIGO_ELEMENTO_DESPESA</th>\n",
              "      <th>ELEMENTO_DESPESA</th>\n",
              "      <th>CODIGO_SUBELEMENTO</th>\n",
              "      <th>SUBELEMENTO_DESPESA</th>\n",
              "      <th>CPF_CNPJ</th>\n",
              "      <th>NOME_FORNECEDOR</th>\n",
              "      <th>VALOR_EMPENHADO</th>\n",
              "      <th>VALOR_LIQUIDADO</th>\n",
              "      <th>VALOR_PAGO</th>\n",
              "      <th>DATA_EMPENHO</th>\n",
              "      <th>ESFERA</th>\n",
              "      <th>CODIGO_MUNICIPIO</th>\n",
              "      <th>TIPO_CREDOR</th>\n",
              "      <th>NOME_UNIDADE_GESTORA</th>\n",
              "    </tr>\n",
              "  </thead>\n",
              "  <tbody>\n",
              "    <tr>\n",
              "      <th>0</th>\n",
              "      <td>37</td>\n",
              "      <td>2012</td>\n",
              "      <td>67</td>\n",
              "      <td>1</td>\n",
              "      <td>CORRESPONDENTE A RENOVACAO DO SEGURO DO VEICULO DESTA CAMARA</td>\n",
              "      <td>4.0</td>\n",
              "      <td>SECRETARIA DA CAMARA MUNICIPAL</td>\n",
              "      <td>1.0</td>\n",
              "      <td>Legislativa</td>\n",
              "      <td>12.0</td>\n",
              "      <td>Administração Geral</td>\n",
              "      <td>6.0</td>\n",
              "      <td>GESTAO ADMINISTRATIVA DA SECRETARIA DA CAMARA</td>\n",
              "      <td>27.0</td>\n",
              "      <td>GESTAO ADMINISTRATIVA DA CAMARA</td>\n",
              "      <td>1.0</td>\n",
              "      <td>Despesa Corrente</td>\n",
              "      <td>3.0</td>\n",
              "      <td>Outras Despesas Correntes</td>\n",
              "      <td>9.0</td>\n",
              "      <td>Aplicações Diretas</td>\n",
              "      <td>3</td>\n",
              "      <td>Outros Serviços de Terceiros – Pessoa Jurídica</td>\n",
              "      <td>238</td>\n",
              "      <td>SEM SUBELEMENTO</td>\n",
              "      <td>61074175000138</td>\n",
              "      <td>MAPFRE VERA CRUZ SEGURADORA S A</td>\n",
              "      <td>1946.13</td>\n",
              "      <td>1946.13</td>\n",
              "      <td>1946.13</td>\n",
              "      <td>2012-01-03T00:00:00</td>\n",
              "      <td>M</td>\n",
              "      <td>P018</td>\n",
              "      <td>2.0</td>\n",
              "      <td>Câmara Municipal de Belo Jardim</td>\n",
              "    </tr>\n",
              "    <tr>\n",
              "      <th>1</th>\n",
              "      <td>38</td>\n",
              "      <td>2012</td>\n",
              "      <td>67</td>\n",
              "      <td>2</td>\n",
              "      <td>CORRESPONDENTE A RENOVACAO DO SEGURO DO VEICULO DESTA CAMARA</td>\n",
              "      <td>4.0</td>\n",
              "      <td>SECRETARIA DA CAMARA MUNICIPAL</td>\n",
              "      <td>1.0</td>\n",
              "      <td>Legislativa</td>\n",
              "      <td>12.0</td>\n",
              "      <td>Administração Geral</td>\n",
              "      <td>6.0</td>\n",
              "      <td>GESTAO ADMINISTRATIVA DA SECRETARIA DA CAMARA</td>\n",
              "      <td>27.0</td>\n",
              "      <td>GESTAO ADMINISTRATIVA DA CAMARA</td>\n",
              "      <td>1.0</td>\n",
              "      <td>Despesa Corrente</td>\n",
              "      <td>3.0</td>\n",
              "      <td>Outras Despesas Correntes</td>\n",
              "      <td>9.0</td>\n",
              "      <td>Aplicações Diretas</td>\n",
              "      <td>3</td>\n",
              "      <td>Outros Serviços de Terceiros – Pessoa Jurídica</td>\n",
              "      <td>238</td>\n",
              "      <td>SEM SUBELEMENTO</td>\n",
              "      <td>61074175000138</td>\n",
              "      <td>MAPFRE VERA CRUZ SEGURADORA S A</td>\n",
              "      <td>850.85</td>\n",
              "      <td>850.85</td>\n",
              "      <td>850.85</td>\n",
              "      <td>2012-01-03T00:00:00</td>\n",
              "      <td>M</td>\n",
              "      <td>P018</td>\n",
              "      <td>2.0</td>\n",
              "      <td>Câmara Municipal de Belo Jardim</td>\n",
              "    </tr>\n",
              "    <tr>\n",
              "      <th>2</th>\n",
              "      <td>39</td>\n",
              "      <td>2012</td>\n",
              "      <td>67</td>\n",
              "      <td>3</td>\n",
              "      <td>DE ENERGIA ELETRICA DESTA CAMARA</td>\n",
              "      <td>4.0</td>\n",
              "      <td>SECRETARIA DA CAMARA MUNICIPAL</td>\n",
              "      <td>1.0</td>\n",
              "      <td>Legislativa</td>\n",
              "      <td>12.0</td>\n",
              "      <td>Administração Geral</td>\n",
              "      <td>6.0</td>\n",
              "      <td>GESTAO ADMINISTRATIVA DA SECRETARIA DA CAMARA</td>\n",
              "      <td>27.0</td>\n",
              "      <td>GESTAO ADMINISTRATIVA DA CAMARA</td>\n",
              "      <td>1.0</td>\n",
              "      <td>Despesa Corrente</td>\n",
              "      <td>3.0</td>\n",
              "      <td>Outras Despesas Correntes</td>\n",
              "      <td>9.0</td>\n",
              "      <td>Aplicações Diretas</td>\n",
              "      <td>3</td>\n",
              "      <td>Outros Serviços de Terceiros – Pessoa Jurídica</td>\n",
              "      <td>238</td>\n",
              "      <td>SEM SUBELEMENTO</td>\n",
              "      <td>10835932000108</td>\n",
              "      <td>COMPANHIA ENERGETICA DE PERNAMBUCO</td>\n",
              "      <td>3185.47</td>\n",
              "      <td>3185.47</td>\n",
              "      <td>3185.47</td>\n",
              "      <td>2012-01-04T00:00:00</td>\n",
              "      <td>M</td>\n",
              "      <td>P018</td>\n",
              "      <td>2.0</td>\n",
              "      <td>Câmara Municipal de Belo Jardim</td>\n",
              "    </tr>\n",
              "    <tr>\n",
              "      <th>3</th>\n",
              "      <td>40</td>\n",
              "      <td>2012</td>\n",
              "      <td>67</td>\n",
              "      <td>4</td>\n",
              "      <td>DO FORNECIMENTO E SANEAMENTO DE AGUA</td>\n",
              "      <td>4.0</td>\n",
              "      <td>SECRETARIA DA CAMARA MUNICIPAL</td>\n",
              "      <td>1.0</td>\n",
              "      <td>Legislativa</td>\n",
              "      <td>12.0</td>\n",
              "      <td>Administração Geral</td>\n",
              "      <td>6.0</td>\n",
              "      <td>GESTAO ADMINISTRATIVA DA SECRETARIA DA CAMARA</td>\n",
              "      <td>27.0</td>\n",
              "      <td>GESTAO ADMINISTRATIVA DA CAMARA</td>\n",
              "      <td>1.0</td>\n",
              "      <td>Despesa Corrente</td>\n",
              "      <td>3.0</td>\n",
              "      <td>Outras Despesas Correntes</td>\n",
              "      <td>9.0</td>\n",
              "      <td>Aplicações Diretas</td>\n",
              "      <td>3</td>\n",
              "      <td>Outros Serviços de Terceiros – Pessoa Jurídica</td>\n",
              "      <td>238</td>\n",
              "      <td>SEM SUBELEMENTO</td>\n",
              "      <td>09769035000164</td>\n",
              "      <td>COMPANHIA PERNAMBUCANA DE SANEAMENTO</td>\n",
              "      <td>1274.54</td>\n",
              "      <td>1274.54</td>\n",
              "      <td>1274.54</td>\n",
              "      <td>2012-01-04T00:00:00</td>\n",
              "      <td>M</td>\n",
              "      <td>P018</td>\n",
              "      <td>2.0</td>\n",
              "      <td>Câmara Municipal de Belo Jardim</td>\n",
              "    </tr>\n",
              "    <tr>\n",
              "      <th>4</th>\n",
              "      <td>41</td>\n",
              "      <td>2012</td>\n",
              "      <td>67</td>\n",
              "      <td>5</td>\n",
              "      <td>DE TELEFONIA FIXA DESTA CAMARA</td>\n",
              "      <td>4.0</td>\n",
              "      <td>SECRETARIA DA CAMARA MUNICIPAL</td>\n",
              "      <td>1.0</td>\n",
              "      <td>Legislativa</td>\n",
              "      <td>12.0</td>\n",
              "      <td>Administração Geral</td>\n",
              "      <td>6.0</td>\n",
              "      <td>GESTAO ADMINISTRATIVA DA SECRETARIA DA CAMARA</td>\n",
              "      <td>27.0</td>\n",
              "      <td>GESTAO ADMINISTRATIVA DA CAMARA</td>\n",
              "      <td>1.0</td>\n",
              "      <td>Despesa Corrente</td>\n",
              "      <td>3.0</td>\n",
              "      <td>Outras Despesas Correntes</td>\n",
              "      <td>9.0</td>\n",
              "      <td>Aplicações Diretas</td>\n",
              "      <td>3</td>\n",
              "      <td>Outros Serviços de Terceiros – Pessoa Jurídica</td>\n",
              "      <td>238</td>\n",
              "      <td>SEM SUBELEMENTO</td>\n",
              "      <td>33000118000179</td>\n",
              "      <td>TELEMAR NORTE LESTE S A</td>\n",
              "      <td>4643.54</td>\n",
              "      <td>4643.54</td>\n",
              "      <td>4643.54</td>\n",
              "      <td>2012-01-04T00:00:00</td>\n",
              "      <td>M</td>\n",
              "      <td>P018</td>\n",
              "      <td>2.0</td>\n",
              "      <td>Câmara Municipal de Belo Jardim</td>\n",
              "    </tr>\n",
              "  </tbody>\n",
              "</table>\n",
              "</div>"
            ],
            "text/plain": [
              "   ID_EMPENHO  ANO_REFERENCIA  ...  TIPO_CREDOR             NOME_UNIDADE_GESTORA\n",
              "0          37            2012  ...          2.0  Câmara Municipal de Belo Jardim\n",
              "1          38            2012  ...          2.0  Câmara Municipal de Belo Jardim\n",
              "2          39            2012  ...          2.0  Câmara Municipal de Belo Jardim\n",
              "3          40            2012  ...          2.0  Câmara Municipal de Belo Jardim\n",
              "4          41            2012  ...          2.0  Câmara Municipal de Belo Jardim\n",
              "\n",
              "[5 rows x 35 columns]"
            ]
          },
          "metadata": {
            "tags": []
          },
          "execution_count": 62
        }
      ]
    },
    {
      "cell_type": "code",
      "metadata": {
        "colab": {
          "base_uri": "https://localhost:8080/",
          "height": 316
        },
        "id": "YiO58sHkw79I",
        "outputId": "1b4c9047-d78a-41ca-ead8-fc9cc2a61509"
      },
      "source": [
        "text_replace = re.search(regex[\"match1\"], df_desp_12[\"HISTORICO\"])\n",
        "\n",
        "\n",
        "df_desp_12[\"HISTORICO\"] = df_desp_12[\"HISTORICO\"].replace()\n",
        "\n",
        "def valueColReplace(col_df):\n",
        "    for "
      ],
      "execution_count": null,
      "outputs": [
        {
          "output_type": "error",
          "ename": "TypeError",
          "evalue": "ignored",
          "traceback": [
            "\u001b[0;31m---------------------------------------------------------------------------\u001b[0m",
            "\u001b[0;31mTypeError\u001b[0m                                 Traceback (most recent call last)",
            "\u001b[0;32m<ipython-input-71-c6c6ef396e09>\u001b[0m in \u001b[0;36m<module>\u001b[0;34m()\u001b[0m\n\u001b[1;32m      2\u001b[0m \u001b[0;34m\u001b[0m\u001b[0m\n\u001b[1;32m      3\u001b[0m \u001b[0;34m\u001b[0m\u001b[0m\n\u001b[0;32m----> 4\u001b[0;31m \u001b[0mdf_desp_12\u001b[0m\u001b[0;34m[\u001b[0m\u001b[0;34m\"HISTORICO\"\u001b[0m\u001b[0;34m]\u001b[0m \u001b[0;34m=\u001b[0m \u001b[0mdf_desp_12\u001b[0m\u001b[0;34m[\u001b[0m\u001b[0;34m\"HISTORICO\"\u001b[0m\u001b[0;34m]\u001b[0m\u001b[0;34m.\u001b[0m\u001b[0mreplace\u001b[0m\u001b[0;34m(\u001b[0m\u001b[0mdf_desp_12\u001b[0m\u001b[0;34m[\u001b[0m\u001b[0;34m\"HISTORICO\"\u001b[0m\u001b[0;34m]\u001b[0m\u001b[0;34m,\u001b[0m \u001b[0mre\u001b[0m\u001b[0;34m.\u001b[0m\u001b[0msearch\u001b[0m\u001b[0;34m(\u001b[0m\u001b[0mregex\u001b[0m\u001b[0;34m[\u001b[0m\u001b[0;34m\"match1\"\u001b[0m\u001b[0;34m]\u001b[0m\u001b[0;34m,\u001b[0m \u001b[0mdf_desp_12\u001b[0m\u001b[0;34m[\u001b[0m\u001b[0;34m\"HISTORICO\"\u001b[0m\u001b[0;34m]\u001b[0m\u001b[0;34m)\u001b[0m\u001b[0;34m)\u001b[0m\u001b[0;34m\u001b[0m\u001b[0;34m\u001b[0m\u001b[0m\n\u001b[0m",
            "\u001b[0;32m/usr/lib/python3.7/re.py\u001b[0m in \u001b[0;36msearch\u001b[0;34m(pattern, string, flags)\u001b[0m\n\u001b[1;32m    183\u001b[0m     \"\"\"Scan through string looking for a match to the pattern, returning\n\u001b[1;32m    184\u001b[0m     a Match object, or None if no match was found.\"\"\"\n\u001b[0;32m--> 185\u001b[0;31m     \u001b[0;32mreturn\u001b[0m \u001b[0m_compile\u001b[0m\u001b[0;34m(\u001b[0m\u001b[0mpattern\u001b[0m\u001b[0;34m,\u001b[0m \u001b[0mflags\u001b[0m\u001b[0;34m)\u001b[0m\u001b[0;34m.\u001b[0m\u001b[0msearch\u001b[0m\u001b[0;34m(\u001b[0m\u001b[0mstring\u001b[0m\u001b[0;34m)\u001b[0m\u001b[0;34m\u001b[0m\u001b[0;34m\u001b[0m\u001b[0m\n\u001b[0m\u001b[1;32m    186\u001b[0m \u001b[0;34m\u001b[0m\u001b[0m\n\u001b[1;32m    187\u001b[0m \u001b[0;32mdef\u001b[0m \u001b[0msub\u001b[0m\u001b[0;34m(\u001b[0m\u001b[0mpattern\u001b[0m\u001b[0;34m,\u001b[0m \u001b[0mrepl\u001b[0m\u001b[0;34m,\u001b[0m \u001b[0mstring\u001b[0m\u001b[0;34m,\u001b[0m \u001b[0mcount\u001b[0m\u001b[0;34m=\u001b[0m\u001b[0;36m0\u001b[0m\u001b[0;34m,\u001b[0m \u001b[0mflags\u001b[0m\u001b[0;34m=\u001b[0m\u001b[0;36m0\u001b[0m\u001b[0;34m)\u001b[0m\u001b[0;34m:\u001b[0m\u001b[0;34m\u001b[0m\u001b[0;34m\u001b[0m\u001b[0m\n",
            "\u001b[0;31mTypeError\u001b[0m: expected string or bytes-like object"
          ]
        }
      ]
    },
    {
      "cell_type": "code",
      "metadata": {
        "colab": {
          "base_uri": "https://localhost:8080/",
          "height": 316
        },
        "id": "MMujlD3YgfVh",
        "outputId": "c5d54f1d-93c0-4663-a9a6-b7a40fa4b82b"
      },
      "source": [
        "lin_historico = df_desp_12[\"HISTORICO\"]\n",
        "text_replace = re.search(regex[\"match1\"], lin_historico)\n",
        "print(text_replace.group(1))"
      ],
      "execution_count": null,
      "outputs": [
        {
          "output_type": "error",
          "ename": "TypeError",
          "evalue": "ignored",
          "traceback": [
            "\u001b[0;31m---------------------------------------------------------------------------\u001b[0m",
            "\u001b[0;31mTypeError\u001b[0m                                 Traceback (most recent call last)",
            "\u001b[0;32m<ipython-input-70-54698ab9d62c>\u001b[0m in \u001b[0;36m<module>\u001b[0;34m()\u001b[0m\n\u001b[1;32m      1\u001b[0m \u001b[0mlin_historico\u001b[0m \u001b[0;34m=\u001b[0m \u001b[0mdf_desp_12\u001b[0m\u001b[0;34m[\u001b[0m\u001b[0;34m\"HISTORICO\"\u001b[0m\u001b[0;34m]\u001b[0m\u001b[0;34m\u001b[0m\u001b[0;34m\u001b[0m\u001b[0m\n\u001b[0;32m----> 2\u001b[0;31m \u001b[0mtext_replace\u001b[0m \u001b[0;34m=\u001b[0m \u001b[0mre\u001b[0m\u001b[0;34m.\u001b[0m\u001b[0msearch\u001b[0m\u001b[0;34m(\u001b[0m\u001b[0mregex\u001b[0m\u001b[0;34m[\u001b[0m\u001b[0;34m\"match1\"\u001b[0m\u001b[0;34m]\u001b[0m\u001b[0;34m,\u001b[0m \u001b[0mlin_historico\u001b[0m\u001b[0;34m)\u001b[0m\u001b[0;34m\u001b[0m\u001b[0;34m\u001b[0m\u001b[0m\n\u001b[0m\u001b[1;32m      3\u001b[0m \u001b[0mprint\u001b[0m\u001b[0;34m(\u001b[0m\u001b[0mtext_replace\u001b[0m\u001b[0;34m.\u001b[0m\u001b[0mgroup\u001b[0m\u001b[0;34m(\u001b[0m\u001b[0;36m1\u001b[0m\u001b[0;34m)\u001b[0m\u001b[0;34m)\u001b[0m\u001b[0;34m\u001b[0m\u001b[0;34m\u001b[0m\u001b[0m\n",
            "\u001b[0;32m/usr/lib/python3.7/re.py\u001b[0m in \u001b[0;36msearch\u001b[0;34m(pattern, string, flags)\u001b[0m\n\u001b[1;32m    183\u001b[0m     \"\"\"Scan through string looking for a match to the pattern, returning\n\u001b[1;32m    184\u001b[0m     a Match object, or None if no match was found.\"\"\"\n\u001b[0;32m--> 185\u001b[0;31m     \u001b[0;32mreturn\u001b[0m \u001b[0m_compile\u001b[0m\u001b[0;34m(\u001b[0m\u001b[0mpattern\u001b[0m\u001b[0;34m,\u001b[0m \u001b[0mflags\u001b[0m\u001b[0;34m)\u001b[0m\u001b[0;34m.\u001b[0m\u001b[0msearch\u001b[0m\u001b[0;34m(\u001b[0m\u001b[0mstring\u001b[0m\u001b[0;34m)\u001b[0m\u001b[0;34m\u001b[0m\u001b[0;34m\u001b[0m\u001b[0m\n\u001b[0m\u001b[1;32m    186\u001b[0m \u001b[0;34m\u001b[0m\u001b[0m\n\u001b[1;32m    187\u001b[0m \u001b[0;32mdef\u001b[0m \u001b[0msub\u001b[0m\u001b[0;34m(\u001b[0m\u001b[0mpattern\u001b[0m\u001b[0;34m,\u001b[0m \u001b[0mrepl\u001b[0m\u001b[0;34m,\u001b[0m \u001b[0mstring\u001b[0m\u001b[0;34m,\u001b[0m \u001b[0mcount\u001b[0m\u001b[0;34m=\u001b[0m\u001b[0;36m0\u001b[0m\u001b[0;34m,\u001b[0m \u001b[0mflags\u001b[0m\u001b[0;34m=\u001b[0m\u001b[0;36m0\u001b[0m\u001b[0;34m)\u001b[0m\u001b[0;34m:\u001b[0m\u001b[0;34m\u001b[0m\u001b[0;34m\u001b[0m\u001b[0m\n",
            "\u001b[0;31mTypeError\u001b[0m: expected string or bytes-like object"
          ]
        }
      ]
    }
  ]
}