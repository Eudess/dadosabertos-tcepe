{
  "nbformat": 4,
  "nbformat_minor": 0,
  "metadata": {
    "colab": {
      "name": "dadosabertostcepe.ipynb",
      "provenance": [],
      "collapsed_sections": [],
      "authorship_tag": "ABX9TyNflBu1pE6Dw7D37xNVLaTf"
    },
    "kernelspec": {
      "name": "python3",
      "display_name": "Python 3"
    },
    "language_info": {
      "name": "python"
    }
  },
  "cells": [
    {
      "cell_type": "code",
      "metadata": {
        "colab": {
          "base_uri": "https://localhost:8080/"
        },
        "id": "rbAN7Ml4tc2m",
        "outputId": "5e4a842f-b0e3-4165-eb0a-bc772015e48c"
      },
      "source": [
        "!rm -r dadosabertos-tcepe\n",
        "!git clone https://github.com/Eudess/dadosabertos-tcepe.git"
      ],
      "execution_count": 2,
      "outputs": [
        {
          "output_type": "stream",
          "text": [
            "rm: cannot remove 'dadosabertos-tcepe': No such file or directory\n",
            "Cloning into 'dadosabertos-tcepe'...\n",
            "remote: Enumerating objects: 154, done.\u001b[K\n",
            "remote: Counting objects: 100% (13/13), done.\u001b[K\n",
            "remote: Compressing objects: 100% (8/8), done.\u001b[K\n",
            "remote: Total 154 (delta 2), reused 13 (delta 2), pack-reused 141\u001b[K\n",
            "Receiving objects: 100% (154/154), 1.78 GiB | 38.47 MiB/s, done.\n",
            "Resolving deltas: 100% (25/25), done.\n",
            "Checking out files: 100% (87/87), done.\n"
          ],
          "name": "stdout"
        }
      ]
    },
    {
      "cell_type": "code",
      "metadata": {
        "id": "WkovVsr0vnC4"
      },
      "source": [
        "import numpy as np\n",
        "import pandas as pd\n",
        "import re\n",
        "import zipfile"
      ],
      "execution_count": 72,
      "outputs": []
    },
    {
      "cell_type": "code",
      "metadata": {
        "id": "YnAkBWgWBQN4"
      },
      "source": [
        "pd.set_option(\"max_colwidth\", 300)"
      ],
      "execution_count": 4,
      "outputs": []
    },
    {
      "cell_type": "code",
      "metadata": {
        "id": "-IQl2F2z3hwC"
      },
      "source": [
        "def get_file_path(dir1, dir2, file, root=True):\n",
        "  if root:\n",
        "    if dir2:\n",
        "      path = f\"dadosabertos-tcepe/{dir1}/{dir2}/{file}\"\n",
        "    else:\n",
        "      path = f\"dadosabertos-tcepe/{dir1}/{file}\"\n",
        "  else:\n",
        "    path = f\"{dir1}/{dir2}/{file}\"\n",
        "  return path"
      ],
      "execution_count": 5,
      "outputs": []
    },
    {
      "cell_type": "code",
      "metadata": {
        "id": "p6VOSRJk3v0v"
      },
      "source": [
        "def extract_zip_file(path_input, path_output):\n",
        "  with zipfile.ZipFile(path_input, \"r\") as zipref:\n",
        "    zipref.extractall(path_output)"
      ],
      "execution_count": 6,
      "outputs": []
    },
    {
      "cell_type": "code",
      "metadata": {
        "id": "DGdwMxauwmU3"
      },
      "source": [
        "col_regex = {\n",
        "    \"match1\": r\"PAGAMENTO(.+?)[\\,\\.]\",\n",
        "    \"match2\": r\"VALOR(.+?)[\\,\\.]\",\n",
        "}"
      ],
      "execution_count": 52,
      "outputs": []
    },
    {
      "cell_type": "code",
      "metadata": {
        "id": "6Y1ThMry7A0Y"
      },
      "source": [
        "# Contratos\n",
        "path_input = get_file_path(\"Contratos\",\"\", \"Contratos.zip\")\n",
        "path_output = \"Contratos\"\n",
        "extract_zip_file(path_input, path_output)"
      ],
      "execution_count": 8,
      "outputs": []
    },
    {
      "cell_type": "code",
      "metadata": {
        "id": "lMZbDm6T7oOY"
      },
      "source": [
        "# Despesas\n",
        "path_input = get_file_path(\"Despesas\",\"Despesas\", \"2012.zip\")\n",
        "path_output = \"Despesas\"\n",
        "extract_zip_file(path_input, path_output)"
      ],
      "execution_count": 9,
      "outputs": []
    },
    {
      "cell_type": "code",
      "metadata": {
        "id": "5rFiN0Bo8Mao"
      },
      "source": [
        "despesas_2012 = get_file_path(\"Despesas\", \"2012\", \"SCA_Despesas_2012.csv\", root=False)"
      ],
      "execution_count": 10,
      "outputs": []
    },
    {
      "cell_type": "code",
      "metadata": {
        "id": "b0z8j9lQ8qGi"
      },
      "source": [
        "df_desp_12 = pd.read_csv(despesas_2012, sep=\"|\")"
      ],
      "execution_count": 58,
      "outputs": []
    },
    {
      "cell_type": "code",
      "metadata": {
        "id": "OQ6C7M80GQ3R"
      },
      "source": [
        "def regexText(text):\n",
        "  new_text = re.search(col_regex[\"match1\"], text)\n",
        "  if not new_text:\n",
        "    new_text = re.search(col_regex[\"match2\"], text)\n",
        "       \n",
        "  return new_text.group(1) if new_text else text"
      ],
      "execution_count": 59,
      "outputs": []
    },
    {
      "cell_type": "code",
      "metadata": {
        "id": "KnQS2wXR070K"
      },
      "source": [
        "df_desp_12[\"HISTORICO\"] = df_desp_12[\"HISTORICO\"].apply(regexText)"
      ],
      "execution_count": 60,
      "outputs": []
    },
    {
      "cell_type": "code",
      "metadata": {
        "colab": {
          "base_uri": "https://localhost:8080/"
        },
        "id": "R7f4nEX6OTqY",
        "outputId": "ae697a44-6a3a-469b-be86-803f6cc46174"
      },
      "source": [
        "any(df_desp_12[\"HISTORICO\"] == np.nan)"
      ],
      "execution_count": 73,
      "outputs": [
        {
          "output_type": "execute_result",
          "data": {
            "text/plain": [
              "False"
            ]
          },
          "metadata": {
            "tags": []
          },
          "execution_count": 73
        }
      ]
    }
  ]
}