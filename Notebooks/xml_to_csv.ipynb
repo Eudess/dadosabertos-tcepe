{
 "cells": [
  {
   "cell_type": "code",
   "execution_count": 1,
   "metadata": {},
   "outputs": [],
   "source": [
    "import chardet\n",
    "import os\n",
    "import mmap\n",
    "import csv\n",
    "import time\n",
    "import xml.etree.ElementTree as et\n",
    "from fsplit.filesplit import Filesplit\n",
    "fs = Filesplit()"
   ]
  },
  {
   "cell_type": "code",
   "execution_count": 2,
   "metadata": {},
   "outputs": [],
   "source": [
    "def npath(path1, path2, file_name=\"\"):\n",
    "    npath = f'../{path1}/{path2}/{file_name}'\n",
    "    return npath"
   ]
  },
  {
   "cell_type": "code",
   "execution_count": 3,
   "metadata": {},
   "outputs": [],
   "source": [
    "def path_despesas(path1, path2, age, file_name=\"\"):\n",
    "    path_despesas = f'../{path1}/Despesas/{path2}/{age}/{file_name}'\n",
    "    return path_despesas"
   ]
  },
  {
   "cell_type": "code",
   "execution_count": 4,
   "metadata": {},
   "outputs": [],
   "source": [
    "#Pegar o elemento raíz do xml.\n",
    "def get_root(path):\n",
    "    with open(path, encoding=\"utf-8\") as xml_file:\n",
    "        with mmap.mmap(xml_file.fileno(), length=0, access=mmap.ACCESS_READ) as mmap_obj:\n",
    "            parsed_xml = et.parse(mmap_obj)\n",
    "            root = parsed_xml.getroot().tag\n",
    "    return root"
   ]
  },
  {
   "cell_type": "code",
   "execution_count": 5,
   "metadata": {},
   "outputs": [],
   "source": [
    "def findTag(path):\n",
    "    with open(path, encoding=\"utf-8\") as xml_file:\n",
    "        #with mmap.mmap(xml_file.fileno(), length=0, access=mmap.ACCESS_READ) as mmap_obj:\n",
    "            parsed_xml = et.parse(xml_file)\n",
    "            root = parsed_xml.getroot()\n",
    "            taglist = []\n",
    "            filtro='*'\n",
    "            for node in root.iter(filtro):\n",
    "                if node.tag not in taglist:\n",
    "                    taglist.append(node.tag)\n",
    "    \n",
    "            del taglist[0]\n",
    "    return taglist"
   ]
  },
  {
   "cell_type": "code",
   "execution_count": 6,
   "metadata": {},
   "outputs": [],
   "source": [
    "#Converte um xml em um csv.\n",
    "def xml_to_csv(inputs, output, headers, root):\n",
    "    with open(output, \"w\", encoding=\"utf-8\") as mcsv:\n",
    "        new_csv = csv.DictWriter(mcsv, fieldnames=headers, delimiter=\"|\", lineterminator='\\n')\n",
    "        new_csv.writeheader()\n",
    "        data_dict = {}\n",
    "        verify_end = 0\n",
    "        is_firt_element = True\n",
    "        cont = 0\n",
    "        num = 2\n",
    "        for event, elem in et.iterparse(inputs, events=('start', 'end')):\n",
    "            if is_firt_element:\n",
    "                is_firt_element = False\n",
    "                continue\n",
    "            if elem.tag == root:\n",
    "                if event == \"start\":\n",
    "                    data_dict = {}\n",
    "                    verify_end = 0\n",
    "                else:\n",
    "                    if elem.tag == root:\n",
    "                        verify_end +=1\n",
    "                    if verify_end < 2:\n",
    "                        elem.clear()\n",
    "                        new_csv.writerow(data_dict)\n",
    "                        mcsv.flush()\n",
    "            else:\n",
    "                data_dict[elem.tag] = elem.text         "
   ]
  },
  {
   "cell_type": "code",
   "execution_count": 7,
   "metadata": {},
   "outputs": [],
   "source": [
    "def hms_string(sec_elapsed):\n",
    "    h = int(sec_elapsed / (60 * 60))\n",
    "    m = int((sec_elapsed % (60 * 60)) / 60)\n",
    "    s = sec_elapsed % 60\n",
    "    return \"{}:{:>02}:{:>05.2f}\".format(h, m, s)"
   ]
  },
  {
   "cell_type": "code",
   "execution_count": 8,
   "metadata": {},
   "outputs": [
    {
     "name": "stdout",
     "output_type": "stream",
     "text": [
      "Total runtime: 0:03:20.61\n"
     ]
    }
   ],
   "source": [
    "#Despesas 2012\n",
    "start_time = time.time()\n",
    "inputs = path_despesas(\"dados\", \"Despesas\", \"2012\",\"SCA_Despesas_2012.xml\")\n",
    "output = path_despesas(\"converted\", \"Despesas\", \"2012\",\"SCA_Despesas_2012.csv\")\n",
    "headers = findTag(inputs)\n",
    "root = get_root(inputs)\n",
    "xml_to_csv(inputs, output, headers, root)\n",
    "time_took = time.time() - start_time\n",
    "print(f\"Total runtime: {hms_string(time_took)}\")"
   ]
  },
  {
   "cell_type": "code",
   "execution_count": 10,
   "metadata": {},
   "outputs": [
    {
     "name": "stdout",
     "output_type": "stream",
     "text": [
      "Total runtime: 0:04:15.50\n"
     ]
    }
   ],
   "source": [
    "#Despesas 2013\n",
    "start_time = time.time()\n",
    "inputs = path_despesas(\"dados\", \"Despesas\", \"2013\",\"SCA_Despesas_2013.xml\")\n",
    "output = path_despesas(\"converted\", \"Despesas\", \"2013\",\"SCA_Despesas_2013.csv\")\n",
    "headers = findTag(inputs)\n",
    "root = get_root(inputs)\n",
    "xml_to_csv(inputs, output, headers, root)\n",
    "time_took = time.time() - start_time\n",
    "print(f\"Total runtime: {hms_string(time_took)}\")"
   ]
  },
  {
   "cell_type": "code",
   "execution_count": 30,
   "metadata": {},
   "outputs": [
    {
     "name": "stdout",
     "output_type": "stream",
     "text": [
      "Total runtime: 0:03:29.25\n"
     ]
    }
   ],
   "source": [
    "#Despesas 2014\n",
    "start_time = time.time()\n",
    "inputs = path_despesas(\"dados\", \"Despesas\", \"2014\",\"SCA_Despesas_2014.xml\")\n",
    "output = path_despesas(\"converted\", \"Despesas\", \"2014\",\"SCA_Despesas_2014.csv\")\n",
    "headers = findTag(inputs)\n",
    "root = get_root(inputs)\n",
    "xml_to_csv(inputs, output, headers, root)\n",
    "time_took = time.time() - start_time\n",
    "print(f\"Total runtime: {hms_string(time_took)}\")"
   ]
  },
  {
   "cell_type": "code",
   "execution_count": 9,
   "metadata": {},
   "outputs": [
    {
     "name": "stdout",
     "output_type": "stream",
     "text": [
      "Total runtime: 0:03:59.11\n"
     ]
    }
   ],
   "source": [
    "#Despesas 2015\n",
    "start_time = time.time()\n",
    "inputs = path_despesas(\"dados\", \"Despesas\", \"2015\",\"SCA_Despesas_2015.xml\")\n",
    "output = path_despesas(\"converted\", \"Despesas\", \"2015\",\"SCA_Despesas_2015.csv\")\n",
    "headers = findTag(inputs)\n",
    "root = get_root(inputs)\n",
    "xml_to_csv(inputs, output, headers, root)\n",
    "time_took = time.time() - start_time\n",
    "print(f\"Total runtime: {hms_string(time_took)}\")"
   ]
  },
  {
   "cell_type": "code",
   "execution_count": 10,
   "metadata": {},
   "outputs": [
    {
     "name": "stdout",
     "output_type": "stream",
     "text": [
      "Total runtime: 0:03:21.22\n"
     ]
    }
   ],
   "source": [
    "#Despesas 2016\n",
    "start_time = time.time()\n",
    "inputs = path_despesas(\"dados\", \"Despesas\", \"2016\",\"SCA_Despesas_2016.xml\")\n",
    "output = path_despesas(\"converted\", \"Despesas\", \"2016\",\"SCA_Despesas_2016.csv\")\n",
    "headers = findTag(inputs)\n",
    "root = get_root(inputs)\n",
    "xml_to_csv(inputs, output, headers, root)\n",
    "time_took = time.time() - start_time\n",
    "print(f\"Total runtime: {hms_string(time_took)}\")"
   ]
  },
  {
   "cell_type": "code",
   "execution_count": 8,
   "metadata": {},
   "outputs": [
    {
     "name": "stdout",
     "output_type": "stream",
     "text": [
      "Total runtime: 0:03:51.10\n"
     ]
    }
   ],
   "source": [
    "#Despesas 2017\n",
    "start_time = time.time()\n",
    "inputs = path_despesas(\"dados\", \"Despesas\", \"2017\",\"SCA_Despesas_2017.xml\")\n",
    "output = path_despesas(\"converted\", \"Despesas\", \"2017\",\"SCA_Despesas_2017.csv\")\n",
    "headers = findTag(inputs)\n",
    "root = get_root(inputs)\n",
    "xml_to_csv(inputs, output, headers, root)\n",
    "time_took = time.time() - start_time\n",
    "print(f\"Total runtime: {hms_string(time_took)}\")"
   ]
  },
  {
   "cell_type": "code",
   "execution_count": 11,
   "metadata": {},
   "outputs": [
    {
     "name": "stdout",
     "output_type": "stream",
     "text": [
      "Total runtime: 0:03:49.60\n"
     ]
    }
   ],
   "source": [
    "#Despesas 2018\n",
    "start_time = time.time()\n",
    "inputs = path_despesas(\"dados\", \"Despesas\", \"2018\",\"SCA_Despesas_2018.xml\")\n",
    "output = path_despesas(\"converted\", \"Despesas\", \"2018\",\"SCA_Despesas_2018.csv\")\n",
    "headers = findTag(inputs)\n",
    "root = get_root(inputs)\n",
    "xml_to_csv(inputs, output, headers, root)\n",
    "time_took = time.time() - start_time\n",
    "print(f\"Total runtime: {hms_string(time_took)}\")"
   ]
  },
  {
   "cell_type": "code",
   "execution_count": 14,
   "metadata": {},
   "outputs": [
    {
     "name": "stdout",
     "output_type": "stream",
     "text": [
      "Total runtime: 0:17:00.44\n"
     ]
    }
   ],
   "source": [
    "#Despesas 2019\n",
    "start_time = time.time()\n",
    "inputs = path_despesas(\"dados\", \"Despesas\", \"2019\",\"SCA_Despesas_2019.xml\")\n",
    "output = path_despesas(\"converted\", \"Despesas\", \"2019\",\"SCA_Despesas_2019.csv\")\n",
    "headers = findTag(inputs)\n",
    "root = get_root(inputs)\n",
    "xml_to_csv(inputs, output, headers, root)\n",
    "time_took = time.time() - start_time\n",
    "print(f\"Total runtime: {hms_string(time_took)}\")"
   ]
  },
  {
   "cell_type": "code",
   "execution_count": 13,
   "metadata": {},
   "outputs": [
    {
     "name": "stdout",
     "output_type": "stream",
     "text": [
      "Total runtime: 0:04:56.81\n"
     ]
    }
   ],
   "source": [
    "#Despesas 2020\n",
    "start_time = time.time()\n",
    "inputs = path_despesas(\"dados\", \"Despesas\", \"2020\",\"SCA_Despesas_2020.xml\")\n",
    "output = path_despesas(\"converted\", \"Despesas\", \"2020\",\"SCA_Despesas_2020.csv\")\n",
    "headers = findTag(inputs)\n",
    "root = get_root(inputs)\n",
    "xml_to_csv(inputs, output, headers, root)\n",
    "time_took = time.time() - start_time\n",
    "print(f\"Total runtime: {hms_string(time_took)}\")"
   ]
  },
  {
   "cell_type": "code",
   "execution_count": 17,
   "metadata": {},
   "outputs": [
    {
     "name": "stdout",
     "output_type": "stream",
     "text": [
      "Total runtime: 0:00:39.73\n"
     ]
    }
   ],
   "source": [
    "#Despesas Estaduais 2010\n",
    "start_time = time.time()\n",
    "inputs = path_despesas(\"dados\", \"DespesasEstaduais\", \"2010\",\"SCA_DespesasEstaduais_2010.xml\")\n",
    "output = path_despesas(\"converted\", \"DespesasEstaduais\", \"2010\",\"SCA_DespesasEstaduais_2010.csv\")\n",
    "headers = findTag(inputs)\n",
    "root = get_root(inputs)\n",
    "xml_to_csv(inputs, output, headers, root)\n",
    "time_took = time.time() - start_time\n",
    "print(f\"Total runtime: {hms_string(time_took)}\")"
   ]
  },
  {
   "cell_type": "code",
   "execution_count": 18,
   "metadata": {},
   "outputs": [
    {
     "name": "stdout",
     "output_type": "stream",
     "text": [
      "Total runtime: 0:00:51.36\n"
     ]
    }
   ],
   "source": [
    "#Despesas Estaduais 2011\n",
    "start_time = time.time()\n",
    "inputs = path_despesas(\"dados\", \"DespesasEstaduais\", \"2011\",\"SCA_DespesasEstaduais_2011.xml\")\n",
    "output = path_despesas(\"converted\", \"DespesasEstaduais\", \"2011\",\"SCA_DespesasEstaduais_2011.csv\")\n",
    "headers = findTag(inputs)\n",
    "root = get_root(inputs)\n",
    "xml_to_csv(inputs, output, headers, root)\n",
    "time_took = time.time() - start_time\n",
    "print(f\"Total runtime: {hms_string(time_took)}\")"
   ]
  },
  {
   "cell_type": "code",
   "execution_count": 19,
   "metadata": {},
   "outputs": [
    {
     "name": "stdout",
     "output_type": "stream",
     "text": [
      "Total runtime: 0:00:56.11\n"
     ]
    }
   ],
   "source": [
    "#Despesas Estaduais 2012\n",
    "start_time = time.time()\n",
    "inputs = path_despesas(\"dados\", \"DespesasEstaduais\", \"2012\",\"SCA_DespesasEstaduais_2012.xml\")\n",
    "output = path_despesas(\"converted\", \"DespesasEstaduais\", \"2012\",\"SCA_DespesasEstaduais_2012.csv\")\n",
    "headers = findTag(inputs)\n",
    "root = get_root(inputs)\n",
    "xml_to_csv(inputs, output, headers, root)\n",
    "time_took = time.time() - start_time\n",
    "print(f\"Total runtime: {hms_string(time_took)}\")"
   ]
  },
  {
   "cell_type": "code",
   "execution_count": 20,
   "metadata": {},
   "outputs": [
    {
     "name": "stdout",
     "output_type": "stream",
     "text": [
      "Total runtime: 0:01:13.02\n"
     ]
    }
   ],
   "source": [
    "#Despesas Estaduais 2013\n",
    "start_time = time.time()\n",
    "inputs = path_despesas(\"dados\", \"DespesasEstaduais\", \"2013\",\"SCA_DespesasEstaduais_2013.xml\")\n",
    "output = path_despesas(\"converted\", \"DespesasEstaduais\", \"2013\",\"SCA_DespesasEstaduais_2013.csv\")\n",
    "headers = findTag(inputs)\n",
    "root = get_root(inputs)\n",
    "xml_to_csv(inputs, output, headers, root)\n",
    "time_took = time.time() - start_time\n",
    "print(f\"Total runtime: {hms_string(time_took)}\")"
   ]
  },
  {
   "cell_type": "code",
   "execution_count": 21,
   "metadata": {},
   "outputs": [
    {
     "name": "stdout",
     "output_type": "stream",
     "text": [
      "Total runtime: 0:01:13.23\n"
     ]
    }
   ],
   "source": [
    "#Despesas Estaduais 2014\n",
    "start_time = time.time()\n",
    "inputs = path_despesas(\"dados\", \"DespesasEstaduais\", \"2014\",\"SCA_DespesasEstaduais_2014.xml\")\n",
    "output = path_despesas(\"converted\", \"DespesasEstaduais\", \"2014\",\"SCA_DespesasEstaduais_2014.csv\")\n",
    "headers = findTag(inputs)\n",
    "root = get_root(inputs)\n",
    "xml_to_csv(inputs, output, headers, root)\n",
    "time_took = time.time() - start_time\n",
    "print(f\"Total runtime: {hms_string(time_took)}\")"
   ]
  },
  {
   "cell_type": "code",
   "execution_count": 22,
   "metadata": {},
   "outputs": [
    {
     "name": "stdout",
     "output_type": "stream",
     "text": [
      "Total runtime: 0:01:06.49\n"
     ]
    }
   ],
   "source": [
    "#Despesas Estaduais 2015\n",
    "start_time = time.time()\n",
    "inputs = path_despesas(\"dados\", \"DespesasEstaduais\", \"2015\",\"SCA_DespesasEstaduais_2015.xml\")\n",
    "output = path_despesas(\"converted\", \"DespesasEstaduais\", \"2015\",\"SCA_DespesasEstaduais_2015.csv\")\n",
    "headers = findTag(inputs)\n",
    "root = get_root(inputs)\n",
    "xml_to_csv(inputs, output, headers, root)\n",
    "time_took = time.time() - start_time\n",
    "print(f\"Total runtime: {hms_string(time_took)}\")"
   ]
  },
  {
   "cell_type": "code",
   "execution_count": 23,
   "metadata": {},
   "outputs": [
    {
     "name": "stdout",
     "output_type": "stream",
     "text": [
      "Total runtime: 0:01:12.38\n"
     ]
    }
   ],
   "source": [
    "#Despesas Estaduais 2016\n",
    "start_time = time.time()\n",
    "inputs = path_despesas(\"dados\", \"DespesasEstaduais\", \"2016\",\"SCA_DespesasEstaduais_2016.xml\")\n",
    "output = path_despesas(\"converted\", \"DespesasEstaduais\", \"2016\",\"SCA_DespesasEstaduais_2016.csv\")\n",
    "headers = findTag(inputs)\n",
    "root = get_root(inputs)\n",
    "xml_to_csv(inputs, output, headers, root)\n",
    "time_took = time.time() - start_time\n",
    "print(f\"Total runtime: {hms_string(time_took)}\")"
   ]
  },
  {
   "cell_type": "code",
   "execution_count": 12,
   "metadata": {},
   "outputs": [
    {
     "name": "stdout",
     "output_type": "stream",
     "text": [
      "Total runtime: 0:01:23.04\n"
     ]
    }
   ],
   "source": [
    "#Despesas Estaduais 2017\n",
    "start_time = time.time()\n",
    "inputs = path_despesas(\"dados\", \"DespesasEstaduais\", \"2017\",\"SCA_DespesasEstaduais_2017.xml\")\n",
    "output = path_despesas(\"converted\", \"DespesasEstaduais\", \"2017\",\"SCA_DespesasEstaduais_2017.csv\")\n",
    "headers = findTag(inputs)\n",
    "root = get_root(inputs)\n",
    "xml_to_csv(inputs, output, headers, root)\n",
    "time_took = time.time() - start_time\n",
    "print(f\"Total runtime: {hms_string(time_took)}\")"
   ]
  },
  {
   "cell_type": "code",
   "execution_count": 13,
   "metadata": {},
   "outputs": [
    {
     "name": "stdout",
     "output_type": "stream",
     "text": [
      "Total runtime: 0:01:31.61\n"
     ]
    }
   ],
   "source": [
    "#Despesas Estaduais 2018\n",
    "start_time = time.time()\n",
    "inputs = path_despesas(\"dados\", \"DespesasEstaduais\", \"2018\",\"SCA_DespesasEstaduais_2018.xml\")\n",
    "output = path_despesas(\"converted\", \"DespesasEstaduais\", \"2018\",\"SCA_DespesasEstaduais_2018.csv\")\n",
    "headers = findTag(inputs)\n",
    "root = get_root(inputs)\n",
    "xml_to_csv(inputs, output, headers, root)\n",
    "time_took = time.time() - start_time\n",
    "print(f\"Total runtime: {hms_string(time_took)}\")"
   ]
  },
  {
   "cell_type": "code",
   "execution_count": 14,
   "metadata": {},
   "outputs": [
    {
     "name": "stdout",
     "output_type": "stream",
     "text": [
      "Total runtime: 0:01:38.84\n"
     ]
    }
   ],
   "source": [
    "#Despesas Estaduais 2019\n",
    "start_time = time.time()\n",
    "inputs = path_despesas(\"dados\", \"DespesasEstaduais\", \"2019\",\"SCA_DespesasEstaduais_2019.xml\")\n",
    "output = path_despesas(\"converted\", \"DespesasEstaduais\", \"2019\",\"SCA_DespesasEstaduais_2019.csv\")\n",
    "headers = findTag(inputs)\n",
    "root = get_root(inputs)\n",
    "xml_to_csv(inputs, output, headers, root)\n",
    "time_took = time.time() - start_time\n",
    "print(f\"Total runtime: {hms_string(time_took)}\")"
   ]
  },
  {
   "cell_type": "code",
   "execution_count": 11,
   "metadata": {},
   "outputs": [
    {
     "name": "stdout",
     "output_type": "stream",
     "text": [
      "Total runtime: 0:00:56.59\n"
     ]
    }
   ],
   "source": [
    "#Despesas Estaduais 2020\n",
    "start_time = time.time()\n",
    "inputs = path_despesas(\"dados\", \"DespesasEstaduais\", \"2020\",\"SCA_DespesasEstaduais_2020.xml\")\n",
    "output = path_despesas(\"converted\", \"DespesasEstaduais\", \"2020\",\"SCA_DespesasEstaduais_2020.csv\")\n",
    "headers = findTag(inputs)\n",
    "root = get_root(inputs)\n",
    "xml_to_csv(inputs, output, headers, root)\n",
    "time_took = time.time() - start_time\n",
    "print(f\"Total runtime: {hms_string(time_took)}\")"
   ]
  },
  {
   "cell_type": "code",
   "execution_count": 21,
   "metadata": {},
   "outputs": [
    {
     "name": "stdout",
     "output_type": "stream",
     "text": [
      "Total runtime: 0:00:25.46\n"
     ]
    }
   ],
   "source": [
    "#Empenho Liquidação 2008\n",
    "start_time = time.time()\n",
    "inputs = path_despesas(\"dados\", \"EmpenhoLiquidacao\", \"2008\",\"SCA_EmpenhoLiquidacao_2008.xml\")\n",
    "output = path_despesas(\"converted\", \"EmpenhoLiquidacao\", \"2008\",\"SCA_EmpenhoLiquidacao_2008.csv\")\n",
    "headers = findTag(inputs)\n",
    "root = get_root(inputs)\n",
    "xml_to_csv(inputs, output, headers, root)\n",
    "time_took = time.time() - start_time\n",
    "print(f\"Total runtime: {hms_string(time_took)}\")"
   ]
  },
  {
   "cell_type": "code",
   "execution_count": 22,
   "metadata": {},
   "outputs": [
    {
     "name": "stdout",
     "output_type": "stream",
     "text": [
      "Total runtime: 0:00:30.53\n"
     ]
    }
   ],
   "source": [
    "#Empenho Liquidação 2009\n",
    "start_time = time.time()\n",
    "inputs = path_despesas(\"dados\", \"EmpenhoLiquidacao\", \"2009\",\"SCA_EmpenhoLiquidacao_2009.xml\")\n",
    "output = path_despesas(\"converted\", \"EmpenhoLiquidacao\", \"2009\",\"SCA_EmpenhoLiquidacao_2009.csv\")\n",
    "headers = findTag(inputs)\n",
    "root = get_root(inputs)\n",
    "xml_to_csv(inputs, output, headers, root)\n",
    "time_took = time.time() - start_time\n",
    "print(f\"Total runtime: {hms_string(time_took)}\")"
   ]
  },
  {
   "cell_type": "code",
   "execution_count": 23,
   "metadata": {},
   "outputs": [
    {
     "name": "stdout",
     "output_type": "stream",
     "text": [
      "Total runtime: 0:00:31.98\n"
     ]
    }
   ],
   "source": [
    "#Empenho Liquidação 2010\n",
    "start_time = time.time()\n",
    "inputs = path_despesas(\"dados\", \"EmpenhoLiquidacao\", \"2010\",\"SCA_EmpenhoLiquidacao_2010.xml\")\n",
    "output = path_despesas(\"converted\", \"EmpenhoLiquidacao\", \"2010\",\"SCA_EmpenhoLiquidacao_2010.csv\")\n",
    "headers = findTag(inputs)\n",
    "root = get_root(inputs)\n",
    "xml_to_csv(inputs, output, headers, root)\n",
    "time_took = time.time() - start_time\n",
    "print(f\"Total runtime: {hms_string(time_took)}\")"
   ]
  },
  {
   "cell_type": "code",
   "execution_count": 24,
   "metadata": {},
   "outputs": [
    {
     "name": "stdout",
     "output_type": "stream",
     "text": [
      "Total runtime: 0:00:35.05\n"
     ]
    }
   ],
   "source": [
    "#Empenho Liquidação 2011\n",
    "start_time = time.time()\n",
    "inputs = path_despesas(\"dados\", \"EmpenhoLiquidacao\", \"2011\",\"SCA_EmpenhoLiquidacao_2011.xml\")\n",
    "output = path_despesas(\"converted\", \"EmpenhoLiquidacao\", \"2011\",\"SCA_EmpenhoLiquidacao_2011.csv\")\n",
    "headers = findTag(inputs)\n",
    "root = get_root(inputs)\n",
    "xml_to_csv(inputs, output, headers, root)\n",
    "time_took = time.time() - start_time\n",
    "print(f\"Total runtime: {hms_string(time_took)}\")"
   ]
  },
  {
   "cell_type": "code",
   "execution_count": 25,
   "metadata": {},
   "outputs": [
    {
     "name": "stdout",
     "output_type": "stream",
     "text": [
      "Total runtime: 0:02:48.02\n"
     ]
    }
   ],
   "source": [
    "#Empenho Liquidação 2012\n",
    "start_time = time.time()\n",
    "inputs = path_despesas(\"dados\", \"EmpenhoLiquidacao\", \"2012\",\"SCA_EmpenhoLiquidacao_2012.xml\")\n",
    "output = path_despesas(\"converted\", \"EmpenhoLiquidacao\", \"2012\",\"SCA_EmpenhoLiquidacao_2012.csv\")\n",
    "headers = findTag(inputs)\n",
    "root = get_root(inputs)\n",
    "xml_to_csv(inputs, output, headers, root)\n",
    "time_took = time.time() - start_time\n",
    "print(f\"Total runtime: {hms_string(time_took)}\")"
   ]
  },
  {
   "cell_type": "code",
   "execution_count": 26,
   "metadata": {},
   "outputs": [
    {
     "name": "stdout",
     "output_type": "stream",
     "text": [
      "Total runtime: 0:02:42.40\n"
     ]
    }
   ],
   "source": [
    "#Empenho Liquidação 2013\n",
    "start_time = time.time()\n",
    "inputs = path_despesas(\"dados\", \"EmpenhoLiquidacao\", \"2013\",\"SCA_EmpenhoLiquidacao_2013.xml\")\n",
    "output = path_despesas(\"converted\", \"EmpenhoLiquidacao\", \"2013\",\"SCA_EmpenhoLiquidacao_2013.csv\")\n",
    "headers = findTag(inputs)\n",
    "root = get_root(inputs)\n",
    "xml_to_csv(inputs, output, headers, root)\n",
    "time_took = time.time() - start_time\n",
    "print(f\"Total runtime: {hms_string(time_took)}\")"
   ]
  },
  {
   "cell_type": "code",
   "execution_count": 27,
   "metadata": {},
   "outputs": [
    {
     "name": "stdout",
     "output_type": "stream",
     "text": [
      "Total runtime: 0:03:21.60\n"
     ]
    }
   ],
   "source": [
    "#Empenho Liquidação 2014\n",
    "start_time = time.time()\n",
    "inputs = path_despesas(\"dados\", \"EmpenhoLiquidacao\", \"2014\",\"SCA_EmpenhoLiquidacao_2014.xml\")\n",
    "output = path_despesas(\"converted\", \"EmpenhoLiquidacao\", \"2014\",\"SCA_EmpenhoLiquidacao_2014.csv\")\n",
    "headers = findTag(inputs)\n",
    "root = get_root(inputs)\n",
    "xml_to_csv(inputs, output, headers, root)\n",
    "time_took = time.time() - start_time\n",
    "print(f\"Total runtime: {hms_string(time_took)}\")"
   ]
  },
  {
   "cell_type": "code",
   "execution_count": 28,
   "metadata": {},
   "outputs": [
    {
     "name": "stdout",
     "output_type": "stream",
     "text": [
      "Total runtime: 0:03:19.33\n"
     ]
    }
   ],
   "source": [
    "#Empenho Liquidação 2015\n",
    "start_time = time.time()\n",
    "inputs = path_despesas(\"dados\", \"EmpenhoLiquidacao\", \"2015\",\"SCA_EmpenhoLiquidacao_2015.xml\")\n",
    "output = path_despesas(\"converted\", \"EmpenhoLiquidacao\", \"2015\",\"SCA_EmpenhoLiquidacao_2015.csv\")\n",
    "headers = findTag(inputs)\n",
    "root = get_root(inputs)\n",
    "xml_to_csv(inputs, output, headers, root)\n",
    "time_took = time.time() - start_time\n",
    "print(f\"Total runtime: {hms_string(time_took)}\")"
   ]
  },
  {
   "cell_type": "code",
   "execution_count": 29,
   "metadata": {},
   "outputs": [
    {
     "name": "stdout",
     "output_type": "stream",
     "text": [
      "Total runtime: 0:03:14.68\n"
     ]
    }
   ],
   "source": [
    "#Empenho Liquidação 2016\n",
    "start_time = time.time()\n",
    "inputs = path_despesas(\"dados\", \"EmpenhoLiquidacao\", \"2016\",\"SCA_EmpenhoLiquidacao_2016.xml\")\n",
    "output = path_despesas(\"converted\", \"EmpenhoLiquidacao\", \"2016\",\"SCA_EmpenhoLiquidacao_2016.csv\")\n",
    "headers = findTag(inputs)\n",
    "root = get_root(inputs)\n",
    "xml_to_csv(inputs, output, headers, root)\n",
    "time_took = time.time() - start_time\n",
    "print(f\"Total runtime: {hms_string(time_took)}\")"
   ]
  },
  {
   "cell_type": "code",
   "execution_count": 30,
   "metadata": {},
   "outputs": [
    {
     "name": "stdout",
     "output_type": "stream",
     "text": [
      "Total runtime: 0:03:54.06\n"
     ]
    }
   ],
   "source": [
    "#Empenho Liquidação 2017\n",
    "start_time = time.time()\n",
    "inputs = path_despesas(\"dados\", \"EmpenhoLiquidacao\", \"2017\",\"SCA_EmpenhoLiquidacao_2017.xml\")\n",
    "output = path_despesas(\"converted\", \"EmpenhoLiquidacao\", \"2017\",\"SCA_EmpenhoLiquidacao_2017.csv\")\n",
    "headers = findTag(inputs)\n",
    "root = get_root(inputs)\n",
    "xml_to_csv(inputs, output, headers, root)\n",
    "time_took = time.time() - start_time\n",
    "print(f\"Total runtime: {hms_string(time_took)}\")"
   ]
  },
  {
   "cell_type": "code",
   "execution_count": 10,
   "metadata": {},
   "outputs": [
    {
     "name": "stdout",
     "output_type": "stream",
     "text": [
      "Total runtime: 0:03:17.98\n"
     ]
    }
   ],
   "source": [
    "#Empenho Liquidação 2018\n",
    "start_time = time.time()\n",
    "inputs = path_despesas(\"dados\", \"EmpenhoLiquidacao\", \"2018\",\"SCA_EmpenhoLiquidacao_2018.xml\")\n",
    "output = path_despesas(\"converted\", \"EmpenhoLiquidacao\", \"2018\",\"SCA_EmpenhoLiquidacao_2018.csv\")\n",
    "headers = findTag(inputs)\n",
    "root = get_root(inputs)\n",
    "xml_to_csv(inputs, output, headers, root)\n",
    "time_took = time.time() - start_time\n",
    "print(f\"Total runtime: {hms_string(time_took)}\")"
   ]
  },
  {
   "cell_type": "code",
   "execution_count": 11,
   "metadata": {},
   "outputs": [
    {
     "name": "stdout",
     "output_type": "stream",
     "text": [
      "Total runtime: 0:03:55.14\n"
     ]
    }
   ],
   "source": [
    "#Empenho Liquidação 2019\n",
    "start_time = time.time()\n",
    "inputs = path_despesas(\"dados\", \"EmpenhoLiquidacao\", \"2019\",\"SCA_EmpenhoLiquidacao_2019.xml\")\n",
    "output = path_despesas(\"converted\", \"EmpenhoLiquidacao\", \"2019\",\"SCA_EmpenhoLiquidacao_2019.csv\")\n",
    "headers = findTag(inputs)\n",
    "root = get_root(inputs)\n",
    "xml_to_csv(inputs, output, headers, root)\n",
    "time_took = time.time() - start_time\n",
    "print(f\"Total runtime: {hms_string(time_took)}\")"
   ]
  },
  {
   "cell_type": "code",
   "execution_count": 12,
   "metadata": {},
   "outputs": [
    {
     "name": "stdout",
     "output_type": "stream",
     "text": [
      "Total runtime: 0:03:28.63\n"
     ]
    }
   ],
   "source": [
    "#Empenho Liquidação 2020\n",
    "start_time = time.time()\n",
    "inputs = path_despesas(\"dados\", \"EmpenhoLiquidacao\", \"2020\",\"SCA_EmpenhoLiquidacao_2020.xml\")\n",
    "output = path_despesas(\"converted\", \"EmpenhoLiquidacao\", \"2020\",\"SCA_EmpenhoLiquidacao_2020.csv\")\n",
    "headers = findTag(inputs)\n",
    "root = get_root(inputs)\n",
    "xml_to_csv(inputs, output, headers, root)\n",
    "time_took = time.time() - start_time\n",
    "print(f\"Total runtime: {hms_string(time_took)}\")"
   ]
  },
  {
   "cell_type": "code",
   "execution_count": 12,
   "metadata": {},
   "outputs": [
    {
     "name": "stdout",
     "output_type": "stream",
     "text": [
      "Total runtime: 0:00:00.03\n"
     ]
    }
   ],
   "source": [
    "#Empenho Pagamento 2010\n",
    "start_time = time.time()\n",
    "inputs = path_despesas(\"dados\", \"EmpenhoPagamento\", \"2010\",\"SCA_EmpenhoPagamento_2010.xml\")\n",
    "output = path_despesas(\"converted\", \"EmpenhoPagamento\", \"2010\",\"SCA_EmpenhoPagamento_2010.csv\")\n",
    "headers = findTag(inputs)\n",
    "root = get_root(inputs)\n",
    "xml_to_csv(inputs, output, headers, root)\n",
    "time_took = time.time() - start_time\n",
    "print(f\"Total runtime: {hms_string(time_took)}\")"
   ]
  },
  {
   "cell_type": "code",
   "execution_count": 13,
   "metadata": {},
   "outputs": [
    {
     "name": "stdout",
     "output_type": "stream",
     "text": [
      "Total runtime: 0:00:00.04\n"
     ]
    }
   ],
   "source": [
    "#Empenho Pagamento 2011\n",
    "start_time = time.time()\n",
    "inputs = path_despesas(\"dados\", \"EmpenhoPagamento\", \"2011\",\"SCA_EmpenhoPagamento_2011.xml\")\n",
    "output = path_despesas(\"converted\", \"EmpenhoPagamento\", \"2011\",\"SCA_EmpenhoPagamento_2011.csv\")\n",
    "headers = findTag(inputs)\n",
    "root = get_root(inputs)\n",
    "xml_to_csv(inputs, output, headers, root)\n",
    "time_took = time.time() - start_time\n",
    "print(f\"Total runtime: {hms_string(time_took)}\")"
   ]
  },
  {
   "cell_type": "code",
   "execution_count": 14,
   "metadata": {},
   "outputs": [
    {
     "name": "stdout",
     "output_type": "stream",
     "text": [
      "Total runtime: 0:02:53.48\n"
     ]
    }
   ],
   "source": [
    "#Empenho Pagamento 2012\n",
    "start_time = time.time()\n",
    "inputs = path_despesas(\"dados\", \"EmpenhoPagamento\", \"2012\",\"SCA_EmpenhoPagamento_2012.xml\")\n",
    "output = path_despesas(\"converted\", \"EmpenhoPagamento\", \"2012\",\"SCA_EmpenhoPagamento_2012.csv\")\n",
    "headers = findTag(inputs)\n",
    "root = get_root(inputs)\n",
    "xml_to_csv(inputs, output, headers, root)\n",
    "time_took = time.time() - start_time\n",
    "print(f\"Total runtime: {hms_string(time_took)}\")"
   ]
  },
  {
   "cell_type": "code",
   "execution_count": 15,
   "metadata": {},
   "outputs": [
    {
     "name": "stdout",
     "output_type": "stream",
     "text": [
      "Total runtime: 0:02:29.61\n"
     ]
    }
   ],
   "source": [
    "#Empenho Pagamento 2013\n",
    "start_time = time.time()\n",
    "inputs = path_despesas(\"dados\", \"EmpenhoPagamento\", \"2013\",\"SCA_EmpenhoPagamento_2013.xml\")\n",
    "output = path_despesas(\"converted\", \"EmpenhoPagamento\", \"2013\",\"SCA_EmpenhoPagamento_2013.csv\")\n",
    "headers = findTag(inputs)\n",
    "root = get_root(inputs)\n",
    "xml_to_csv(inputs, output, headers, root)\n",
    "time_took = time.time() - start_time\n",
    "print(f\"Total runtime: {hms_string(time_took)}\")"
   ]
  },
  {
   "cell_type": "code",
   "execution_count": 33,
   "metadata": {},
   "outputs": [
    {
     "name": "stdout",
     "output_type": "stream",
     "text": [
      "Total runtime: 0:04:27.12\n"
     ]
    }
   ],
   "source": [
    "#Empenho Pagamento 2014\n",
    "start_time = time.time()\n",
    "inputs = path_despesas(\"dados\", \"EmpenhoPagamento\", \"2014\",\"SCA_EmpenhoPagamento_2014.xml\")\n",
    "output = path_despesas(\"converted\", \"EmpenhoPagamento\", \"2014\",\"SCA_EmpenhoPagamento_2014.csv\")\n",
    "headers = findTag(inputs)\n",
    "root = get_root(inputs)\n",
    "xml_to_csv(inputs, output, headers, root)\n",
    "time_took = time.time() - start_time\n",
    "print(f\"Total runtime: {hms_string(time_took)}\")"
   ]
  },
  {
   "cell_type": "code",
   "execution_count": 36,
   "metadata": {},
   "outputs": [
    {
     "name": "stdout",
     "output_type": "stream",
     "text": [
      "Total runtime: 0:04:00.01\n"
     ]
    }
   ],
   "source": [
    "#Empenho Pagamento 2015\n",
    "start_time = time.time()\n",
    "inputs = path_despesas(\"dados\", \"EmpenhoPagamento\", \"2015\",\"SCA_EmpenhoPagamento_2015.xml\")\n",
    "output = path_despesas(\"converted\", \"EmpenhoPagamento\", \"2015\",\"SCA_EmpenhoPagamento_2015.csv\")\n",
    "headers = findTag(inputs)\n",
    "root = get_root(inputs)\n",
    "xml_to_csv(inputs, output, headers, root)\n",
    "time_took = time.time() - start_time\n",
    "print(f\"Total runtime: {hms_string(time_took)}\")"
   ]
  },
  {
   "cell_type": "code",
   "execution_count": 37,
   "metadata": {},
   "outputs": [
    {
     "name": "stdout",
     "output_type": "stream",
     "text": [
      "Total runtime: 0:04:18.19\n"
     ]
    }
   ],
   "source": [
    "#Empenho Pagamento 2016\n",
    "start_time = time.time()\n",
    "inputs = path_despesas(\"dados\", \"EmpenhoPagamento\", \"2016\",\"SCA_EmpenhoPagamento_2016.xml\")\n",
    "output = path_despesas(\"converted\", \"EmpenhoPagamento\", \"2016\",\"SCA_EmpenhoPagamento_2016.csv\")\n",
    "headers = findTag(inputs)\n",
    "root = get_root(inputs)\n",
    "xml_to_csv(inputs, output, headers, root)\n",
    "time_took = time.time() - start_time\n",
    "print(f\"Total runtime: {hms_string(time_took)}\")"
   ]
  },
  {
   "cell_type": "code",
   "execution_count": 38,
   "metadata": {},
   "outputs": [
    {
     "name": "stdout",
     "output_type": "stream",
     "text": [
      "Total runtime: 0:05:00.84\n"
     ]
    }
   ],
   "source": [
    "#Empenho Pagamento 2017\n",
    "start_time = time.time()\n",
    "inputs = path_despesas(\"dados\", \"EmpenhoPagamento\", \"2017\",\"SCA_EmpenhoPagamento_2017.xml\")\n",
    "output = path_despesas(\"converted\", \"EmpenhoPagamento\", \"2017\",\"SCA_EmpenhoPagamento_2017.csv\")\n",
    "headers = findTag(inputs)\n",
    "root = get_root(inputs)\n",
    "xml_to_csv(inputs, output, headers, root)\n",
    "time_took = time.time() - start_time\n",
    "print(f\"Total runtime: {hms_string(time_took)}\")"
   ]
  },
  {
   "cell_type": "code",
   "execution_count": 39,
   "metadata": {},
   "outputs": [
    {
     "name": "stdout",
     "output_type": "stream",
     "text": [
      "Total runtime: 0:05:22.71\n"
     ]
    }
   ],
   "source": [
    "#Empenho Pagamento 2018\n",
    "start_time = time.time()\n",
    "inputs = path_despesas(\"dados\", \"EmpenhoPagamento\", \"2018\",\"SCA_EmpenhoPagamento_2018.xml\")\n",
    "output = path_despesas(\"converted\", \"EmpenhoPagamento\", \"2018\",\"SCA_EmpenhoPagamento_2018.csv\")\n",
    "headers = findTag(inputs)\n",
    "root = get_root(inputs)\n",
    "xml_to_csv(inputs, output, headers, root)\n",
    "time_took = time.time() - start_time\n",
    "print(f\"Total runtime: {hms_string(time_took)}\")"
   ]
  },
  {
   "cell_type": "code",
   "execution_count": 40,
   "metadata": {},
   "outputs": [
    {
     "name": "stdout",
     "output_type": "stream",
     "text": [
      "Total runtime: 0:05:59.33\n"
     ]
    }
   ],
   "source": [
    "#Empenho Pagamento 2019\n",
    "start_time = time.time()\n",
    "inputs = path_despesas(\"dados\", \"EmpenhoPagamento\", \"2019\",\"SCA_EmpenhoPagamento_2019.xml\")\n",
    "output = path_despesas(\"converted\", \"EmpenhoPagamento\", \"2019\",\"SCA_EmpenhoPagamento_2019.csv\")\n",
    "headers = findTag(inputs)\n",
    "root = get_root(inputs)\n",
    "xml_to_csv(inputs, output, headers, root)\n",
    "time_took = time.time() - start_time\n",
    "print(f\"Total runtime: {hms_string(time_took)}\")"
   ]
  },
  {
   "cell_type": "code",
   "execution_count": 41,
   "metadata": {},
   "outputs": [
    {
     "name": "stdout",
     "output_type": "stream",
     "text": [
      "Total runtime: 0:05:12.00\n"
     ]
    }
   ],
   "source": [
    "#Empenho Pagamento 2020\n",
    "start_time = time.time()\n",
    "inputs = path_despesas(\"dados\", \"EmpenhoPagamento\", \"2020\",\"SCA_EmpenhoPagamento_2020.xml\")\n",
    "output = path_despesas(\"converted\", \"EmpenhoPagamento\", \"2020\",\"SCA_EmpenhoPagamento_2020.csv\")\n",
    "headers = findTag(inputs)\n",
    "root = get_root(inputs)\n",
    "xml_to_csv(inputs, output, headers, root)\n",
    "time_took = time.time() - start_time\n",
    "print(f\"Total runtime: {hms_string(time_took)}\")"
   ]
  },
  {
   "cell_type": "code",
   "execution_count": 13,
   "metadata": {},
   "outputs": [
    {
     "name": "stdout",
     "output_type": "stream",
     "text": [
      "Total runtime: 0:00:16.68\n"
     ]
    }
   ],
   "source": [
    "#Empenho Resumo 2010\n",
    "start_time = time.time()\n",
    "inputs = path_despesas(\"dados\", \"EmpenhoResumo\", \"2010\",\"SCA_EmpenhoResumo_2010.xml\")\n",
    "output = path_despesas(\"converted\", \"EmpenhoResumo\", \"2010\",\"SCA_EmpenhoResumo_2010.csv\")\n",
    "headers = findTag(inputs)\n",
    "root = get_root(inputs)\n",
    "xml_to_csv(inputs, output, headers, root)\n",
    "time_took = time.time() - start_time\n",
    "print(f\"Total runtime: {hms_string(time_took)}\")"
   ]
  },
  {
   "cell_type": "code",
   "execution_count": 14,
   "metadata": {},
   "outputs": [
    {
     "name": "stdout",
     "output_type": "stream",
     "text": [
      "Total runtime: 0:00:17.44\n"
     ]
    }
   ],
   "source": [
    "#Empenho Resumo 2011\n",
    "start_time = time.time()\n",
    "inputs = path_despesas(\"dados\", \"EmpenhoResumo\", \"2011\",\"SCA_EmpenhoResumo_2011.xml\")\n",
    "output = path_despesas(\"converted\", \"EmpenhoResumo\", \"2011\",\"SCA_EmpenhoResumo_2011.csv\")\n",
    "headers = findTag(inputs)\n",
    "root = get_root(inputs)\n",
    "xml_to_csv(inputs, output, headers, root)\n",
    "time_took = time.time() - start_time\n",
    "print(f\"Total runtime: {hms_string(time_took)}\")"
   ]
  },
  {
   "cell_type": "code",
   "execution_count": 15,
   "metadata": {},
   "outputs": [
    {
     "name": "stdout",
     "output_type": "stream",
     "text": [
      "Total runtime: 0:01:25.72\n"
     ]
    }
   ],
   "source": [
    "#Empenho Resumo 2012\n",
    "start_time = time.time()\n",
    "inputs = path_despesas(\"dados\", \"EmpenhoResumo\", \"2012\",\"SCA_EmpenhoResumo_2012.xml\")\n",
    "output = path_despesas(\"converted\", \"EmpenhoResumo\", \"2012\",\"SCA_EmpenhoResumo_2012.csv\")\n",
    "headers = findTag(inputs)\n",
    "root = get_root(inputs)\n",
    "xml_to_csv(inputs, output, headers, root)\n",
    "time_took = time.time() - start_time\n",
    "print(f\"Total runtime: {hms_string(time_took)}\")"
   ]
  },
  {
   "cell_type": "code",
   "execution_count": 16,
   "metadata": {},
   "outputs": [
    {
     "name": "stdout",
     "output_type": "stream",
     "text": [
      "Total runtime: 0:01:19.23\n"
     ]
    }
   ],
   "source": [
    "#Empenho Resumo 2013\n",
    "start_time = time.time()\n",
    "inputs = path_despesas(\"dados\", \"EmpenhoResumo\", \"2013\",\"SCA_EmpenhoResumo_2013.xml\")\n",
    "output = path_despesas(\"converted\", \"EmpenhoResumo\", \"2013\",\"SCA_EmpenhoResumo_2013.csv\")\n",
    "headers = findTag(inputs)\n",
    "root = get_root(inputs)\n",
    "xml_to_csv(inputs, output, headers, root)\n",
    "time_took = time.time() - start_time\n",
    "print(f\"Total runtime: {hms_string(time_took)}\")"
   ]
  },
  {
   "cell_type": "code",
   "execution_count": 17,
   "metadata": {},
   "outputs": [
    {
     "name": "stdout",
     "output_type": "stream",
     "text": [
      "Total runtime: 0:01:34.34\n"
     ]
    }
   ],
   "source": [
    "#Empenho Resumo 2014\n",
    "start_time = time.time()\n",
    "inputs = path_despesas(\"dados\", \"EmpenhoResumo\", \"2014\",\"SCA_EmpenhoResumo_2014.xml\")\n",
    "output = path_despesas(\"converted\", \"EmpenhoResumo\", \"2014\",\"SCA_EmpenhoResumo_2014.csv\")\n",
    "headers = findTag(inputs)\n",
    "root = get_root(inputs)\n",
    "xml_to_csv(inputs, output, headers, root)\n",
    "time_took = time.time() - start_time\n",
    "print(f\"Total runtime: {hms_string(time_took)}\")"
   ]
  },
  {
   "cell_type": "code",
   "execution_count": 18,
   "metadata": {},
   "outputs": [
    {
     "name": "stdout",
     "output_type": "stream",
     "text": [
      "Total runtime: 0:01:27.64\n"
     ]
    }
   ],
   "source": [
    "#Empenho Resumo 2015\n",
    "start_time = time.time()\n",
    "inputs = path_despesas(\"dados\", \"EmpenhoResumo\", \"2015\",\"SCA_EmpenhoResumo_2015.xml\")\n",
    "output = path_despesas(\"converted\", \"EmpenhoResumo\", \"2015\",\"SCA_EmpenhoResumo_2015.csv\")\n",
    "headers = findTag(inputs)\n",
    "root = get_root(inputs)\n",
    "xml_to_csv(inputs, output, headers, root)\n",
    "time_took = time.time() - start_time\n",
    "print(f\"Total runtime: {hms_string(time_took)}\")"
   ]
  },
  {
   "cell_type": "code",
   "execution_count": 19,
   "metadata": {},
   "outputs": [
    {
     "name": "stdout",
     "output_type": "stream",
     "text": [
      "Total runtime: 0:01:33.09\n"
     ]
    }
   ],
   "source": [
    "#Empenho Resumo 2016\n",
    "start_time = time.time()\n",
    "inputs = path_despesas(\"dados\", \"EmpenhoResumo\", \"2016\",\"SCA_EmpenhoResumo_2016.xml\")\n",
    "output = path_despesas(\"converted\", \"EmpenhoResumo\", \"2016\",\"SCA_EmpenhoResumo_2016.csv\")\n",
    "headers = findTag(inputs)\n",
    "root = get_root(inputs)\n",
    "xml_to_csv(inputs, output, headers, root)\n",
    "time_took = time.time() - start_time\n",
    "print(f\"Total runtime: {hms_string(time_took)}\")"
   ]
  },
  {
   "cell_type": "code",
   "execution_count": 20,
   "metadata": {},
   "outputs": [
    {
     "name": "stdout",
     "output_type": "stream",
     "text": [
      "Total runtime: 0:01:38.48\n"
     ]
    }
   ],
   "source": [
    "#Empenho Resumo 2017\n",
    "start_time = time.time()\n",
    "inputs = path_despesas(\"dados\", \"EmpenhoResumo\", \"2017\",\"SCA_EmpenhoResumo_2017.xml\")\n",
    "output = path_despesas(\"converted\", \"EmpenhoResumo\", \"2017\",\"SCA_EmpenhoResumo_2017.csv\")\n",
    "headers = findTag(inputs)\n",
    "root = get_root(inputs)\n",
    "xml_to_csv(inputs, output, headers, root)\n",
    "time_took = time.time() - start_time\n",
    "print(f\"Total runtime: {hms_string(time_took)}\")"
   ]
  },
  {
   "cell_type": "code",
   "execution_count": 21,
   "metadata": {},
   "outputs": [
    {
     "name": "stdout",
     "output_type": "stream",
     "text": [
      "Total runtime: 0:01:47.96\n"
     ]
    }
   ],
   "source": [
    "#Empenho Resumo 2018\n",
    "start_time = time.time()\n",
    "inputs = path_despesas(\"dados\", \"EmpenhoResumo\", \"2018\",\"SCA_EmpenhoResumo_2018.xml\")\n",
    "output = path_despesas(\"converted\", \"EmpenhoResumo\", \"2018\",\"SCA_EmpenhoResumo_2018.csv\")\n",
    "headers = findTag(inputs)\n",
    "root = get_root(inputs)\n",
    "xml_to_csv(inputs, output, headers, root)\n",
    "time_took = time.time() - start_time\n",
    "print(f\"Total runtime: {hms_string(time_took)}\")"
   ]
  },
  {
   "cell_type": "code",
   "execution_count": 22,
   "metadata": {},
   "outputs": [
    {
     "name": "stdout",
     "output_type": "stream",
     "text": [
      "Total runtime: 0:01:58.23\n"
     ]
    }
   ],
   "source": [
    "#Empenho Resumo 2019\n",
    "start_time = time.time()\n",
    "inputs = path_despesas(\"dados\", \"EmpenhoResumo\", \"2019\",\"SCA_EmpenhoResumo_2019.xml\")\n",
    "output = path_despesas(\"converted\", \"EmpenhoResumo\", \"2019\",\"SCA_EmpenhoResumo_2019.csv\")\n",
    "headers = findTag(inputs)\n",
    "root = get_root(inputs)\n",
    "xml_to_csv(inputs, output, headers, root)\n",
    "time_took = time.time() - start_time\n",
    "print(f\"Total runtime: {hms_string(time_took)}\")"
   ]
  },
  {
   "cell_type": "code",
   "execution_count": 23,
   "metadata": {},
   "outputs": [
    {
     "name": "stdout",
     "output_type": "stream",
     "text": [
      "Total runtime: 0:01:51.47\n"
     ]
    }
   ],
   "source": [
    "#Empenho Resumo 2020\n",
    "start_time = time.time()\n",
    "inputs = path_despesas(\"dados\", \"EmpenhoResumo\", \"2020\",\"SCA_EmpenhoResumo_2020.xml\")\n",
    "output = path_despesas(\"converted\", \"EmpenhoResumo\", \"2020\",\"SCA_EmpenhoResumo_2020.csv\")\n",
    "headers = findTag(inputs)\n",
    "root = get_root(inputs)\n",
    "xml_to_csv(inputs, output, headers, root)\n",
    "time_took = time.time() - start_time\n",
    "print(f\"Total runtime: {hms_string(time_took)}\")"
   ]
  },
  {
   "cell_type": "code",
   "execution_count": 25,
   "metadata": {},
   "outputs": [
    {
     "name": "stdout",
     "output_type": "stream",
     "text": [
      "Total runtime: 0:00:00.01\n"
     ]
    }
   ],
   "source": [
    "#Tipo Credor\n",
    "start_time = time.time()\n",
    "inputs = path_despesas(\"dados\", \"TipoCredor\", \"estadual\",\"SCA_TipoCredorEstadual.xml\")\n",
    "output = path_despesas(\"converted\", \"TipoCredor\", \"estadual\",\"SCA_TipoCredorEstadual.csv\")\n",
    "headers = findTag(inputs)\n",
    "root = get_root(inputs)\n",
    "xml_to_csv(inputs, output, headers, root)\n",
    "time_took = time.time() - start_time\n",
    "print(f\"Total runtime: {hms_string(time_took)}\")"
   ]
  },
  {
   "cell_type": "code",
   "execution_count": 26,
   "metadata": {},
   "outputs": [
    {
     "name": "stdout",
     "output_type": "stream",
     "text": [
      "Total runtime: 0:00:00.00\n"
     ]
    }
   ],
   "source": [
    "#Tipo Municipal\n",
    "start_time = time.time()\n",
    "inputs = path_despesas(\"dados\", \"TipoCredor\", \"municipal\",\"SCA_TipoCredorMunicipal.xml\")\n",
    "output = path_despesas(\"converted\", \"TipoCredor\", \"municipal\",\"SCA_TipoCredorMunicipal.csv\")\n",
    "headers = findTag(inputs)\n",
    "root = get_root(inputs)\n",
    "xml_to_csv(inputs, output, headers, root)\n",
    "time_took = time.time() - start_time\n",
    "print(f\"Total runtime: {hms_string(time_took)}\")"
   ]
  },
  {
   "cell_type": "code",
   "execution_count": 8,
   "metadata": {},
   "outputs": [
    {
     "name": "stdout",
     "output_type": "stream",
     "text": [
      "Total runtime: 0:05:26.48\n"
     ]
    }
   ],
   "source": [
    "#Item Empenho\n",
    "start_time = time.time()\n",
    "inputs = path_despesas(\"dados\", \"ItemEmpenho\", \"Estadual\",\"SCA_ItemEmpenhoEstadual.xml\")\n",
    "output = path_despesas(\"converted\", \"ItemEmpenho\", \"Estadual\",\"SCA_ItemEmpenhoEstadual.csv\")\n",
    "headers = findTag(inputs)\n",
    "root = get_root(inputs)\n",
    "xml_to_csv(inputs, output, headers, root)\n",
    "time_took = time.time() - start_time\n",
    "print(f\"Total runtime: {hms_string(time_took)}\")"
   ]
  },
  {
   "cell_type": "code",
   "execution_count": 9,
   "metadata": {},
   "outputs": [
    {
     "name": "stdout",
     "output_type": "stream",
     "text": [
      "Total runtime: 0:00:36.67\n"
     ]
    }
   ],
   "source": [
    "#Contratos\n",
    "start_time = time.time()\n",
    "inputs = npath(\"dados\", \"Contratos\", \"Contratos.xml\")\n",
    "output = npath(\"converted\", \"Contratos\", \"Contratos.csv\",)\n",
    "headers = findTag(inputs)\n",
    "root = get_root(inputs)\n",
    "xml_to_csv(inputs, output, headers, root)\n",
    "time_took = time.time() - start_time\n",
    "print(f\"Total runtime: {hms_string(time_took)}\")"
   ]
  },
  {
   "cell_type": "code",
   "execution_count": 10,
   "metadata": {},
   "outputs": [
    {
     "name": "stdout",
     "output_type": "stream",
     "text": [
      "Total runtime: 0:00:17.09\n"
     ]
    }
   ],
   "source": [
    "#Contratos Documnetos\n",
    "start_time = time.time()\n",
    "inputs = npath(\"dados\", \"Contratos\", \"SCA_ContratoDocumentos.xml\")\n",
    "output = npath(\"converted\", \"Contratos\", \"SCA_ContratoDocumentos.csv\",)\n",
    "headers = findTag(inputs)\n",
    "root = get_root(inputs)\n",
    "xml_to_csv(inputs, output, headers, root)\n",
    "time_took = time.time() - start_time\n",
    "print(f\"Total runtime: {hms_string(time_took)}\")"
   ]
  },
  {
   "cell_type": "code",
   "execution_count": 60,
   "metadata": {},
   "outputs": [
    {
     "name": "stdout",
     "output_type": "stream",
     "text": [
      "Total runtime: 0:01:48.04\n"
     ]
    }
   ],
   "source": [
    "#Contratos Item Objeto\n",
    "start_time = time.time()\n",
    "inputs = npath(\"dados\", \"Contratos\", \"SCA_ContratoItemObjeto.xml\")\n",
    "output = npath(\"converted\", \"Contratos\", \"SCA_ContratoItemObjeto.csv\",)\n",
    "headers = findTag(inputs)\n",
    "root = get_root(inputs)\n",
    "xml_to_csv(inputs, output, headers, root)\n",
    "time_took = time.time() - start_time\n",
    "print(f\"Total runtime: {hms_string(time_took)}\")"
   ]
  },
  {
   "cell_type": "code",
   "execution_count": 12,
   "metadata": {},
   "outputs": [
    {
     "name": "stdout",
     "output_type": "stream",
     "text": [
      "Total runtime: 0:00:00.51\n"
     ]
    }
   ],
   "source": [
    "#Contratos - Convênios\n",
    "start_time = time.time()\n",
    "inputs = npath(\"dados\", \"Contratos\", \"SCA_Convenios.xml\")\n",
    "output = npath(\"converted\", \"Contratos\", \"SCA_Convenios.csv\",)\n",
    "headers = findTag(inputs)\n",
    "root = get_root(inputs)\n",
    "xml_to_csv(inputs, output, headers, root)\n",
    "time_took = time.time() - start_time\n",
    "print(f\"Total runtime: {hms_string(time_took)}\")"
   ]
  },
  {
   "cell_type": "code",
   "execution_count": 13,
   "metadata": {},
   "outputs": [
    {
     "name": "stdout",
     "output_type": "stream",
     "text": [
      "Total runtime: 0:00:12.53\n"
     ]
    }
   ],
   "source": [
    "#Contratos - Termo Aditivo\n",
    "start_time = time.time()\n",
    "inputs = npath(\"dados\", \"Contratos\", \"TermoAditivo.xml\")\n",
    "output = npath(\"converted\", \"Contratos\", \"TermoAditivo.csv\",)\n",
    "headers = findTag(inputs)\n",
    "root = get_root(inputs)\n",
    "xml_to_csv(inputs, output, headers, root)\n",
    "time_took = time.time() - start_time\n",
    "print(f\"Total runtime: {hms_string(time_took)}\")"
   ]
  },
  {
   "cell_type": "code",
   "execution_count": 26,
   "metadata": {},
   "outputs": [
    {
     "name": "stdout",
     "output_type": "stream",
     "text": [
      "Total runtime: 0:00:46.02\n"
     ]
    }
   ],
   "source": [
    "#Fornecedores - Pessoa\n",
    "start_time = time.time()\n",
    "inputs = npath(\"dados\", \"Fornecedores\", \"SCA_Pessoa.xml\")\n",
    "output = npath(\"converted\", \"Fornecedores\", \"SCA_Pessoa.csv\",)\n",
    "headers = findTag(inputs)\n",
    "root = get_root(inputs)\n",
    "xml_to_csv(inputs, output, headers, root)\n",
    "time_took = time.time() - start_time\n",
    "print(f\"Total runtime: {hms_string(time_took)}\")"
   ]
  },
  {
   "cell_type": "code",
   "execution_count": 14,
   "metadata": {},
   "outputs": [
    {
     "name": "stdout",
     "output_type": "stream",
     "text": [
      "Total runtime: 0:00:01.48\n"
     ]
    }
   ],
   "source": [
    "#Fornecedores - Sanções\n",
    "start_time = time.time()\n",
    "inputs = npath(\"dados\", \"Fornecedores\", \"SCA_Sancoes.xml\")\n",
    "output = npath(\"converted\", \"Fornecedores\", \"SCA_Sancoes.csv\",)\n",
    "headers = findTag(inputs)\n",
    "root = get_root(inputs)\n",
    "xml_to_csv(inputs, output, headers, root)\n",
    "time_took = time.time() - start_time\n",
    "print(f\"Total runtime: {hms_string(time_took)}\")"
   ]
  },
  {
   "cell_type": "code",
   "execution_count": 15,
   "metadata": {},
   "outputs": [
    {
     "name": "stdout",
     "output_type": "stream",
     "text": [
      "Total runtime: 0:00:00.00\n"
     ]
    }
   ],
   "source": [
    "#Fornecedores - Tipo Credor\n",
    "start_time = time.time()\n",
    "inputs = npath(\"dados\", \"Fornecedores\", \"SCA_TipoCredorPessoa.xml\")\n",
    "output = npath(\"converted\", \"Fornecedores\", \"SCA_TipoCredorPessoa.csv\",)\n",
    "headers = findTag(inputs)\n",
    "root = get_root(inputs)\n",
    "xml_to_csv(inputs, output, headers, root)\n",
    "time_took = time.time() - start_time\n",
    "print(f\"Total runtime: {hms_string(time_took)}\")"
   ]
  },
  {
   "cell_type": "code",
   "execution_count": 58,
   "metadata": {},
   "outputs": [
    {
     "name": "stdout",
     "output_type": "stream",
     "text": [
      "Total runtime: 0:00:30.08\n"
     ]
    }
   ],
   "source": [
    "#Informacoes Basicas\n",
    "start_time = time.time()\n",
    "inputs = npath(\"dados\", \"Informacoes_Basicas\", \"CARGO.xml\")\n",
    "output = npath(\"converted\", \"Informacoes_Basicas\", \"Cargo.csv\",)\n",
    "headers = findTag(inputs)\n",
    "root = get_root(inputs)\n",
    "xml_to_csv(inputs, output, headers, root)\n",
    "time_took = time.time() - start_time\n",
    "print(f\"Total runtime: {hms_string(time_took)}\")"
   ]
  },
  {
   "cell_type": "code",
   "execution_count": 17,
   "metadata": {},
   "outputs": [
    {
     "name": "stdout",
     "output_type": "stream",
     "text": [
      "Total runtime: 0:00:45.05\n"
     ]
    }
   ],
   "source": [
    "#Informacoes Basicas\n",
    "start_time = time.time()\n",
    "inputs = npath(\"dados\", \"Informacoes_Basicas\", \"LOTACAO.xml\")\n",
    "output = npath(\"converted\", \"Informacoes_Basicas\", \"Lotacao.csv\",)\n",
    "headers = findTag(inputs)\n",
    "root = get_root(inputs)\n",
    "xml_to_csv(inputs, output, headers, root)\n",
    "time_took = time.time() - start_time\n",
    "print(f\"Total runtime: {hms_string(time_took)}\")"
   ]
  },
  {
   "cell_type": "code",
   "execution_count": 18,
   "metadata": {},
   "outputs": [
    {
     "name": "stdout",
     "output_type": "stream",
     "text": [
      "Total runtime: 0:00:00.30\n"
     ]
    }
   ],
   "source": [
    "#Informacoes Basicas\n",
    "start_time = time.time()\n",
    "inputs = npath(\"dados\", \"Informacoes_Basicas\", \"MUNICIPIO.xml\")\n",
    "output = npath(\"converted\", \"Informacoes_Basicas\", \"Municipio.csv\",)\n",
    "headers = findTag(inputs)\n",
    "root = get_root(inputs)\n",
    "xml_to_csv(inputs, output, headers, root)\n",
    "time_took = time.time() - start_time\n",
    "print(f\"Total runtime: {hms_string(time_took)}\")"
   ]
  },
  {
   "cell_type": "code",
   "execution_count": 19,
   "metadata": {},
   "outputs": [
    {
     "name": "stdout",
     "output_type": "stream",
     "text": [
      "Total runtime: 0:00:00.03\n"
     ]
    }
   ],
   "source": [
    "#Informacoes Basicas\n",
    "start_time = time.time()\n",
    "inputs = npath(\"dados\", \"Informacoes_Basicas\", \"SCA_UJsEstaduais.xml\")\n",
    "output = npath(\"converted\", \"Informacoes_Basicas\", \"SCA_UJsEstaduais.csv\",)\n",
    "headers = findTag(inputs)\n",
    "root = get_root(inputs)\n",
    "xml_to_csv(inputs, output, headers, root)\n",
    "time_took = time.time() - start_time\n",
    "print(f\"Total runtime: {hms_string(time_took)}\")"
   ]
  },
  {
   "cell_type": "code",
   "execution_count": 20,
   "metadata": {},
   "outputs": [
    {
     "name": "stdout",
     "output_type": "stream",
     "text": [
      "Total runtime: 0:00:00.44\n"
     ]
    }
   ],
   "source": [
    "#Informacoes Basicas\n",
    "start_time = time.time()\n",
    "inputs = npath(\"dados\", \"Informacoes_Basicas\", \"SCA_UJsMunicipais.xml\")\n",
    "output = npath(\"converted\", \"Informacoes_Basicas\", \"SCA_UJsMunicipais.csv\",)\n",
    "headers = findTag(inputs)\n",
    "root = get_root(inputs)\n",
    "xml_to_csv(inputs, output, headers, root)\n",
    "time_took = time.time() - start_time\n",
    "print(f\"Total runtime: {hms_string(time_took)}\")"
   ]
  },
  {
   "cell_type": "code",
   "execution_count": 37,
   "metadata": {},
   "outputs": [
    {
     "name": "stdout",
     "output_type": "stream",
     "text": [
      "Total runtime: 0:00:00.03\n"
     ]
    }
   ],
   "source": [
    "#Informacoes Basicas\n",
    "start_time = time.time()\n",
    "inputs = npath(\"dados\", \"Informacoes_Basicas\", \"TIPO_ATOPESSOAL.xml\")\n",
    "output = npath(\"converted\", \"Informacoes_Basicas\", \"Tipo_AtoPessoal.csv\",)\n",
    "headers = findTag(inputs)\n",
    "root = get_root(inputs)\n",
    "xml_to_csv(inputs, output, headers, root)\n",
    "time_took = time.time() - start_time\n",
    "print(f\"Total runtime: {hms_string(time_took)}\")"
   ]
  },
  {
   "cell_type": "code",
   "execution_count": 38,
   "metadata": {},
   "outputs": [
    {
     "name": "stdout",
     "output_type": "stream",
     "text": [
      "Total runtime: 0:00:00.02\n"
     ]
    }
   ],
   "source": [
    "#Informacoes Basicas\n",
    "start_time = time.time()\n",
    "inputs = npath(\"dados\", \"Informacoes_Basicas\", \"TIPO_ESCOLARIDADE.xml\")\n",
    "output = npath(\"converted\", \"Informacoes_Basicas\", \"Tipo_Escolaridade.csv\",)\n",
    "headers = findTag(inputs)\n",
    "root = get_root(inputs)\n",
    "xml_to_csv(inputs, output, headers, root)\n",
    "time_took = time.time() - start_time\n",
    "print(f\"Total runtime: {hms_string(time_took)}\")"
   ]
  },
  {
   "cell_type": "code",
   "execution_count": 21,
   "metadata": {},
   "outputs": [
    {
     "name": "stdout",
     "output_type": "stream",
     "text": [
      "Total runtime: 0:00:00.00\n"
     ]
    }
   ],
   "source": [
    "#Informacoes Basicas\n",
    "start_time = time.time()\n",
    "inputs = npath(\"dados\", \"Informacoes_Basicas\", \"TIPO_FOLHA.xml\")\n",
    "output = npath(\"converted\", \"Informacoes_Basicas\", \"Tipo_Folha.csv\",)\n",
    "headers = findTag(inputs)\n",
    "root = get_root(inputs)\n",
    "xml_to_csv(inputs, output, headers, root)\n",
    "time_took = time.time() - start_time\n",
    "print(f\"Total runtime: {hms_string(time_took)}\")"
   ]
  },
  {
   "cell_type": "code",
   "execution_count": 22,
   "metadata": {},
   "outputs": [
    {
     "name": "stdout",
     "output_type": "stream",
     "text": [
      "Total runtime: 0:00:00.02\n"
     ]
    }
   ],
   "source": [
    "#Informacoes Basicas\n",
    "start_time = time.time()\n",
    "inputs = npath(\"dados\", \"Informacoes_Basicas\", \"TIPO_FONTERECURSO.xml\")\n",
    "output = npath(\"converted\", \"Informacoes_Basicas\", \"Tipo_FonteRecurso.csv\",)\n",
    "headers = findTag(inputs)\n",
    "root = get_root(inputs)\n",
    "xml_to_csv(inputs, output, headers, root)\n",
    "time_took = time.time() - start_time\n",
    "print(f\"Total runtime: {hms_string(time_took)}\")"
   ]
  },
  {
   "cell_type": "code",
   "execution_count": 23,
   "metadata": {},
   "outputs": [
    {
     "name": "stdout",
     "output_type": "stream",
     "text": [
      "Total runtime: 0:00:00.01\n"
     ]
    }
   ],
   "source": [
    "#Informacoes Basicas\n",
    "start_time = time.time()\n",
    "inputs = npath(\"dados\", \"Informacoes_Basicas\", \"TIPO_MOTIVOINATIVACAO.xml\")\n",
    "output = npath(\"converted\", \"Informacoes_Basicas\", \"Tipo_MotivoInativacao.csv\",)\n",
    "headers = findTag(inputs)\n",
    "root = get_root(inputs)\n",
    "xml_to_csv(inputs, output, headers, root)\n",
    "time_took = time.time() - start_time\n",
    "print(f\"Total runtime: {hms_string(time_took)}\")"
   ]
  },
  {
   "cell_type": "code",
   "execution_count": 42,
   "metadata": {},
   "outputs": [
    {
     "name": "stdout",
     "output_type": "stream",
     "text": [
      "Total runtime: 0:00:00.02\n"
     ]
    }
   ],
   "source": [
    "#Informacoes Basicas\n",
    "start_time = time.time()\n",
    "inputs = npath(\"dados\", \"Informacoes_Basicas\", \"TIPO_REGIMEPREVIDENCIARIO.xml\")\n",
    "output = npath(\"converted\", \"Informacoes_Basicas\", \"Tipo_RegimePrevidenciario.csv\",)\n",
    "headers = findTag(inputs)\n",
    "root = get_root(inputs)\n",
    "xml_to_csv(inputs, output, headers, root)\n",
    "time_took = time.time() - start_time\n",
    "print(f\"Total runtime: {hms_string(time_took)}\")"
   ]
  },
  {
   "cell_type": "code",
   "execution_count": 44,
   "metadata": {},
   "outputs": [
    {
     "name": "stdout",
     "output_type": "stream",
     "text": [
      "Total runtime: 0:00:00.00\n"
     ]
    }
   ],
   "source": [
    "#Informacoes Basicas\n",
    "start_time = time.time()\n",
    "inputs = npath(\"dados\", \"Informacoes_Basicas\", \"TIPO_VINCULO.xml\")\n",
    "output = npath(\"converted\", \"Informacoes_Basicas\", \"Tipo_Vinculo.csv\",)\n",
    "headers = findTag(inputs)\n",
    "root = get_root(inputs)\n",
    "xml_to_csv(inputs, output, headers, root)\n",
    "time_took = time.time() - start_time\n",
    "print(f\"Total runtime: {hms_string(time_took)}\")"
   ]
  },
  {
   "cell_type": "code",
   "execution_count": 24,
   "metadata": {},
   "outputs": [
    {
     "name": "stdout",
     "output_type": "stream",
     "text": [
      "Total runtime: 0:00:00.17\n"
     ]
    }
   ],
   "source": [
    "#Informacoes Basicas\n",
    "start_time = time.time()\n",
    "inputs = npath(\"dados\", \"Informacoes_Basicas\", \"UG.xml\")\n",
    "output = npath(\"converted\", \"Informacoes_Basicas\", \"UG.csv\",)\n",
    "headers = findTag(inputs)\n",
    "root = get_root(inputs)\n",
    "xml_to_csv(inputs, output, headers, root)\n",
    "time_took = time.time() - start_time\n",
    "print(f\"Total runtime: {hms_string(time_took)}\")"
   ]
  },
  {
   "cell_type": "code",
   "execution_count": 25,
   "metadata": {},
   "outputs": [
    {
     "name": "stdout",
     "output_type": "stream",
     "text": [
      "Total runtime: 0:00:00.02\n"
     ]
    }
   ],
   "source": [
    "#Licitacoes\n",
    "start_time = time.time()\n",
    "inputs = npath(\"dados\", \"Licitacoes\", \"AUDIN_FundamentacaoLegalLicitacao.xml\")\n",
    "output = npath(\"converted\", \"Licitacoes\", \"AUDIN_FundamentacaoLegalLicitacao.csv\",)\n",
    "headers = findTag(inputs)\n",
    "root = get_root(inputs)\n",
    "xml_to_csv(inputs, output, headers, root)\n",
    "time_took = time.time() - start_time\n",
    "print(f\"Total runtime: {hms_string(time_took)}\")"
   ]
  },
  {
   "cell_type": "code",
   "execution_count": 26,
   "metadata": {},
   "outputs": [
    {
     "name": "stdout",
     "output_type": "stream",
     "text": [
      "Total runtime: 0:00:00.17\n"
     ]
    }
   ],
   "source": [
    "#Licitacoes\n",
    "start_time = time.time()\n",
    "inputs = npath(\"dados\", \"Licitacoes\", \"SCA_CaracteristicaObjeto.xml\")\n",
    "output = npath(\"converted\", \"Licitacoes\", \"SCA_CaracteristicaObjeto.csv\",)\n",
    "headers = findTag(inputs)\n",
    "root = get_root(inputs)\n",
    "xml_to_csv(inputs, output, headers, root)\n",
    "time_took = time.time() - start_time\n",
    "print(f\"Total runtime: {hms_string(time_took)}\")"
   ]
  },
  {
   "cell_type": "code",
   "execution_count": 27,
   "metadata": {},
   "outputs": [
    {
     "name": "stdout",
     "output_type": "stream",
     "text": [
      "Total runtime: 0:00:00.03\n"
     ]
    }
   ],
   "source": [
    "#Licitacoes\n",
    "start_time = time.time()\n",
    "inputs = npath(\"dados\", \"Licitacoes\", \"SCA_ClassificacaoObjeto.xml\")\n",
    "output = npath(\"converted\", \"Licitacoes\", \"SCA_ClassificacaoObjeto.csv\",)\n",
    "headers = findTag(inputs)\n",
    "root = get_root(inputs)\n",
    "xml_to_csv(inputs, output, headers, root)\n",
    "time_took = time.time() - start_time\n",
    "print(f\"Total runtime: {hms_string(time_took)}\")"
   ]
  },
  {
   "cell_type": "code",
   "execution_count": 28,
   "metadata": {},
   "outputs": [
    {
     "name": "stdout",
     "output_type": "stream",
     "text": [
      "Total runtime: 0:00:00.02\n"
     ]
    }
   ],
   "source": [
    "#Licitacoes\n",
    "start_time = time.time()\n",
    "inputs = npath(\"dados\", \"Licitacoes\", \"SCA_EstagioLicitacao.xml\")\n",
    "output = npath(\"converted\", \"Licitacoes\", \"SCA_EstagioLicitacao.csv\",)\n",
    "headers = findTag(inputs)\n",
    "root = get_root(inputs)\n",
    "xml_to_csv(inputs, output, headers, root)\n",
    "time_took = time.time() - start_time\n",
    "print(f\"Total runtime: {hms_string(time_took)}\")"
   ]
  },
  {
   "cell_type": "code",
   "execution_count": 55,
   "metadata": {},
   "outputs": [
    {
     "name": "stdout",
     "output_type": "stream",
     "text": [
      "Total runtime: 0:02:26.65\n"
     ]
    }
   ],
   "source": [
    "#Licitacoes\n",
    "start_time = time.time()\n",
    "inputs = npath(\"dados\", \"Licitacoes\", \"SCA_LicitacoesDetalhes.xml\")\n",
    "output = npath(\"converted\", \"Licitacoes\", \"SCA_LicitacoesDetalhes.csv\",)\n",
    "headers = findTag(inputs)\n",
    "root = get_root(inputs)\n",
    "xml_to_csv(inputs, output, headers, root)\n",
    "time_took = time.time() - start_time\n",
    "print(f\"Total runtime: {hms_string(time_took)}\")"
   ]
  },
  {
   "cell_type": "code",
   "execution_count": 30,
   "metadata": {},
   "outputs": [
    {
     "name": "stdout",
     "output_type": "stream",
     "text": [
      "Total runtime: 0:00:31.15\n"
     ]
    }
   ],
   "source": [
    "#Licitacoes\n",
    "start_time = time.time()\n",
    "inputs = npath(\"dados\", \"Licitacoes\", \"SCA_LicitacoesDocumentos.xml\")\n",
    "output = npath(\"converted\", \"Licitacoes\", \"SCA_LicitacoesDocumentos.csv\",)\n",
    "headers = findTag(inputs)\n",
    "root = get_root(inputs)\n",
    "xml_to_csv(inputs, output, headers, root)\n",
    "time_took = time.time() - start_time\n",
    "print(f\"Total runtime: {hms_string(time_took)}\")"
   ]
  },
  {
   "cell_type": "code",
   "execution_count": 31,
   "metadata": {},
   "outputs": [
    {
     "name": "stdout",
     "output_type": "stream",
     "text": [
      "Total runtime: 0:00:00.02\n"
     ]
    }
   ],
   "source": [
    "#Licitacoes\n",
    "start_time = time.time()\n",
    "inputs = npath(\"dados\", \"Licitacoes\", \"SCA_ModalidadeLicitacao.xml\")\n",
    "output = npath(\"converted\", \"Licitacoes\", \"SCA_ModalidadeLicitacao.csv\",)\n",
    "headers = findTag(inputs)\n",
    "root = get_root(inputs)\n",
    "xml_to_csv(inputs, output, headers, root)\n",
    "time_took = time.time() - start_time\n",
    "print(f\"Total runtime: {hms_string(time_took)}\")"
   ]
  },
  {
   "cell_type": "code",
   "execution_count": 32,
   "metadata": {},
   "outputs": [
    {
     "name": "stdout",
     "output_type": "stream",
     "text": [
      "Total runtime: 0:00:00.01\n"
     ]
    }
   ],
   "source": [
    "#Licitacoes\n",
    "start_time = time.time()\n",
    "inputs = npath(\"dados\", \"Licitacoes\", \"SCA_NaturezaObjeto.xml\")\n",
    "output = npath(\"converted\", \"Licitacoes\", \"SCA_NaturezaObjeto.csv\",)\n",
    "headers = findTag(inputs)\n",
    "root = get_root(inputs)\n",
    "xml_to_csv(inputs, output, headers, root)\n",
    "time_took = time.time() - start_time\n",
    "print(f\"Total runtime: {hms_string(time_took)}\")"
   ]
  },
  {
   "cell_type": "code",
   "execution_count": 33,
   "metadata": {},
   "outputs": [
    {
     "name": "stdout",
     "output_type": "stream",
     "text": [
      "Total runtime: 0:00:00.01\n"
     ]
    }
   ],
   "source": [
    "#Licitacoes\n",
    "start_time = time.time()\n",
    "inputs = npath(\"dados\", \"Licitacoes\", \"SCA_SituacaoLicitacao.xml\")\n",
    "output = npath(\"converted\", \"Licitacoes\", \"SCA_SituacaoLicitacao.csv\",)\n",
    "headers = findTag(inputs)\n",
    "root = get_root(inputs)\n",
    "xml_to_csv(inputs, output, headers, root)\n",
    "time_took = time.time() - start_time\n",
    "print(f\"Total runtime: {hms_string(time_took)}\")"
   ]
  },
  {
   "cell_type": "code",
   "execution_count": 27,
   "metadata": {},
   "outputs": [
    {
     "name": "stdout",
     "output_type": "stream",
     "text": [
      "Total runtime: 0:00:00.18\n"
     ]
    }
   ],
   "source": [
    "#Obras\n",
    "start_time = time.time()\n",
    "inputs = npath(\"dados\", \"Obras\", \"SCA_Obras.xml\")\n",
    "output = npath(\"converted\", \"Obras\", \"SCA_Obras.csv\",)\n",
    "headers = findTag(inputs)\n",
    "root = get_root(inputs)\n",
    "xml_to_csv(inputs, output, headers, root)\n",
    "time_took = time.time() - start_time\n",
    "print(f\"Total runtime: {hms_string(time_took)}\")"
   ]
  },
  {
   "cell_type": "code",
   "execution_count": 35,
   "metadata": {},
   "outputs": [
    {
     "name": "stdout",
     "output_type": "stream",
     "text": [
      "Total runtime: 0:00:00.10\n"
     ]
    }
   ],
   "source": [
    "#Obras\n",
    "start_time = time.time()\n",
    "inputs = npath(\"dados\", \"Obras\", \"SCA_ObrasDadosAuditoria.xml\")\n",
    "output = npath(\"converted\", \"Obras\", \"SCA_ObrasDadosAuditoria.csv\",)\n",
    "headers = findTag(inputs)\n",
    "root = get_root(inputs)\n",
    "xml_to_csv(inputs, output, headers, root)\n",
    "time_took = time.time() - start_time\n",
    "print(f\"Total runtime: {hms_string(time_took)}\")"
   ]
  },
  {
   "cell_type": "code",
   "execution_count": 36,
   "metadata": {},
   "outputs": [
    {
     "name": "stdout",
     "output_type": "stream",
     "text": [
      "Total runtime: 0:00:00.12\n"
     ]
    }
   ],
   "source": [
    "#Obras\n",
    "start_time = time.time()\n",
    "inputs = npath(\"dados\", \"Obras\", \"SCA_ObrasDadosContratacao.xml\")\n",
    "output = npath(\"converted\", \"Obras\", \"SCA_ObrasDadosContratacao.csv\",)\n",
    "headers = findTag(inputs)\n",
    "root = get_root(inputs)\n",
    "xml_to_csv(inputs, output, headers, root)\n",
    "time_took = time.time() - start_time\n",
    "print(f\"Total runtime: {hms_string(time_took)}\")"
   ]
  },
  {
   "cell_type": "code",
   "execution_count": 37,
   "metadata": {},
   "outputs": [
    {
     "name": "stdout",
     "output_type": "stream",
     "text": [
      "Total runtime: 0:00:02.56\n"
     ]
    }
   ],
   "source": [
    "#Processos\n",
    "start_time = time.time()\n",
    "inputs = npath(\"dados\", \"Processos\", \"Considerandos.xml\")\n",
    "output = npath(\"converted\", \"Processos\", \"Considerandos.csv\",)\n",
    "headers = findTag(inputs)\n",
    "root = get_root(inputs)\n",
    "xml_to_csv(inputs, output, headers, root)\n",
    "time_took = time.time() - start_time\n",
    "print(f\"Total runtime: {hms_string(time_took)}\")"
   ]
  },
  {
   "cell_type": "code",
   "execution_count": 38,
   "metadata": {},
   "outputs": [
    {
     "name": "stdout",
     "output_type": "stream",
     "text": [
      "Total runtime: 0:00:00.41\n"
     ]
    }
   ],
   "source": [
    "#Processos\n",
    "start_time = time.time()\n",
    "inputs = npath(\"dados\", \"Processos\", \"Determinacoes.xml\")\n",
    "output = npath(\"converted\", \"Processos\", \"Determinacoes.csv\",)\n",
    "headers = findTag(inputs)\n",
    "root = get_root(inputs)\n",
    "xml_to_csv(inputs, output, headers, root)\n",
    "time_took = time.time() - start_time\n",
    "print(f\"Total runtime: {hms_string(time_took)}\")"
   ]
  },
  {
   "cell_type": "code",
   "execution_count": 39,
   "metadata": {},
   "outputs": [
    {
     "name": "stdout",
     "output_type": "stream",
     "text": [
      "Total runtime: 0:00:28.38\n"
     ]
    }
   ],
   "source": [
    "#Processos\n",
    "start_time = time.time()\n",
    "inputs = npath(\"dados\", \"Processos\", \"Processos.xml\")\n",
    "output = npath(\"converted\", \"Processos\", \"Processos.csv\",)\n",
    "headers = findTag(inputs)\n",
    "root = get_root(inputs)\n",
    "xml_to_csv(inputs, output, headers, root)\n",
    "time_took = time.time() - start_time\n",
    "print(f\"Total runtime: {hms_string(time_took)}\")"
   ]
  },
  {
   "cell_type": "code",
   "execution_count": 40,
   "metadata": {},
   "outputs": [
    {
     "name": "stdout",
     "output_type": "stream",
     "text": [
      "Total runtime: 0:00:00.11\n"
     ]
    }
   ],
   "source": [
    "#Processos\n",
    "start_time = time.time()\n",
    "inputs = npath(\"dados\", \"Processos\", \"Recomendacoes.xml\")\n",
    "output = npath(\"converted\", \"Processos\", \"Recomendacoes.csv\",)\n",
    "headers = findTag(inputs)\n",
    "root = get_root(inputs)\n",
    "xml_to_csv(inputs, output, headers, root)\n",
    "time_took = time.time() - start_time\n",
    "print(f\"Total runtime: {hms_string(time_took)}\")"
   ]
  },
  {
   "cell_type": "code",
   "execution_count": 41,
   "metadata": {},
   "outputs": [
    {
     "name": "stdout",
     "output_type": "stream",
     "text": [
      "Total runtime: 0:00:01.10\n"
     ]
    }
   ],
   "source": [
    "#Processos\n",
    "start_time = time.time()\n",
    "inputs = npath(\"dados\", \"Processos\", \"Resultados.xml\")\n",
    "output = npath(\"converted\", \"Processos\", \"Resultados.csv\",)\n",
    "headers = findTag(inputs)\n",
    "root = get_root(inputs)\n",
    "xml_to_csv(inputs, output, headers, root)\n",
    "time_took = time.time() - start_time\n",
    "print(f\"Total runtime: {hms_string(time_took)}\")"
   ]
  },
  {
   "cell_type": "code",
   "execution_count": 42,
   "metadata": {},
   "outputs": [
    {
     "name": "stdout",
     "output_type": "stream",
     "text": [
      "Total runtime: 0:00:00.69\n"
     ]
    }
   ],
   "source": [
    "#Processos\n",
    "start_time = time.time()\n",
    "inputs = npath(\"dados\", \"Processos\", \"SCA_DebitosMultas.xml\")\n",
    "output = npath(\"converted\", \"Processos\", \"SCA_DebitosMultas.csv\",)\n",
    "headers = findTag(inputs)\n",
    "root = get_root(inputs)\n",
    "xml_to_csv(inputs, output, headers, root)\n",
    "time_took = time.time() - start_time\n",
    "print(f\"Total runtime: {hms_string(time_took)}\")"
   ]
  },
  {
   "cell_type": "code",
   "execution_count": 43,
   "metadata": {},
   "outputs": [
    {
     "name": "stdout",
     "output_type": "stream",
     "text": [
      "Total runtime: 0:01:56.89\n"
     ]
    }
   ],
   "source": [
    "#Receitas\n",
    "start_time = time.time()\n",
    "inputs = npath(\"dados\", \"Receitas\", \"SCA_Receitas.xml\")\n",
    "output = npath(\"converted\", \"Receitas\", \"SCA_Receitas.csv\",)\n",
    "headers = findTag(inputs)\n",
    "root = get_root(inputs)\n",
    "xml_to_csv(inputs, output, headers, root)\n",
    "time_took = time.time() - start_time\n",
    "print(f\"Total runtime: {hms_string(time_took)}\")"
   ]
  },
  {
   "cell_type": "code",
   "execution_count": 44,
   "metadata": {},
   "outputs": [
    {
     "name": "stdout",
     "output_type": "stream",
     "text": [
      "Total runtime: 0:00:06.22\n"
     ]
    }
   ],
   "source": [
    "#Receitas\n",
    "start_time = time.time()\n",
    "inputs = npath(\"dados\", \"Receitas\", \"SCA_ReceitasEstaduais.xml\")\n",
    "output = npath(\"converted\", \"Receitas\", \"SCA_ReceitasEstaduais.csv\",)\n",
    "headers = findTag(inputs)\n",
    "root = get_root(inputs)\n",
    "xml_to_csv(inputs, output, headers, root)\n",
    "time_took = time.time() - start_time\n",
    "print(f\"Total runtime: {hms_string(time_took)}\")"
   ]
  },
  {
   "cell_type": "code",
   "execution_count": 45,
   "metadata": {},
   "outputs": [
    {
     "name": "stdout",
     "output_type": "stream",
     "text": [
      "Total runtime: 0:00:11.06\n"
     ]
    }
   ],
   "source": [
    "#Receitas\n",
    "start_time = time.time()\n",
    "inputs = npath(\"dados\", \"Receitas\", \"SCA_ReceitasPrevistas.xml\")\n",
    "output = npath(\"converted\", \"Receitas\", \"SCA_ReceitasPrevistas.csv\",)\n",
    "headers = findTag(inputs)\n",
    "root = get_root(inputs)\n",
    "xml_to_csv(inputs, output, headers, root)\n",
    "time_took = time.time() - start_time\n",
    "print(f\"Total runtime: {hms_string(time_took)}\")"
   ]
  },
  {
   "cell_type": "code",
   "execution_count": 46,
   "metadata": {},
   "outputs": [
    {
     "name": "stdout",
     "output_type": "stream",
     "text": [
      "Total runtime: 0:00:00.08\n"
     ]
    }
   ],
   "source": [
    "#Transporte Escolar\n",
    "start_time = time.time()\n",
    "inputs = npath(\"dados\", \"Transporte_Escolar\", \"SCA_TransporteEscolar.xml\")\n",
    "output = npath(\"converted\", \"Transporte_Escolar\", \"SCA_TransporteEscolar.csv\",)\n",
    "headers = findTag(inputs)\n",
    "root = get_root(inputs)\n",
    "xml_to_csv(inputs, output, headers, root)\n",
    "time_took = time.time() - start_time\n",
    "print(f\"Total runtime: {hms_string(time_took)}\")"
   ]
  },
  {
   "cell_type": "code",
   "execution_count": 13,
   "metadata": {},
   "outputs": [],
   "source": [
    "import re\n",
    "\n",
    "def remove_special_char(inputs, output):\n",
    "    minvalid_xml = re.compile(\"&#([0-9]+);|&#x([0-9a-fA-F]+);\")\n",
    "    with open(output, \"w\", encoding=\"utf-8\") as new_file:\n",
    "        with open(inputs, \"r\", encoding=\"utf-16\") as f:\n",
    "            for line in f:\n",
    "                myline, mycount = minvalid_xml.subn('?', line)\n",
    "                new_file.write(myline)\n",
    "                f.flush()"
   ]
  },
  {
   "cell_type": "code",
   "execution_count": null,
   "metadata": {},
   "outputs": [],
   "source": [
    "inputs = path_despesas(\"broken_file\", \"Despesas\", \"2019\",\"SCA_Despesas_2019_1.xml\")\n",
    "output = path_despesas(\"broken_file\", \"Despesas\", \"2018\",\"SCA_Despesas_2019_1.xml\")\n",
    "remove_special_char(inputs, output)"
   ]
  },
  {
   "cell_type": "code",
   "execution_count": 51,
   "metadata": {},
   "outputs": [],
   "source": [
    "inputs = npath(\"dados\", \"Licitacoes\", \"SCA_LicitacoesDetalhes.xml\")\n",
    "output = npath(\"broken_file\", \"Licitacoes\", \"SCA_LicitacoesDetalhes.xml\")\n",
    "remove_special_char(inputs, output)"
   ]
  },
  {
   "cell_type": "code",
   "execution_count": 57,
   "metadata": {},
   "outputs": [
    {
     "name": "stdout",
     "output_type": "stream",
     "text": [
      "Total runtime: 0:00:05.04\n"
     ]
    }
   ],
   "source": [
    "start_time = time.time()\n",
    "inputs = npath(\"dados\", \"Informacoes_Basicas\", \"CARGO.xml\")\n",
    "output = npath(\"broken_file\", \"Informacoes_Basicas\", \"CARGO.xml\",)\n",
    "remove_special_char(inputs, output)\n",
    "time_took = time.time() - start_time\n",
    "print(f\"Total runtime: {hms_string(time_took)}\")"
   ]
  },
  {
   "cell_type": "code",
   "execution_count": 59,
   "metadata": {},
   "outputs": [
    {
     "name": "stdout",
     "output_type": "stream",
     "text": [
      "Total runtime: 0:00:17.55\n"
     ]
    }
   ],
   "source": [
    "#Contratos Item Objeto\n",
    "start_time = time.time()\n",
    "inputs = npath(\"dados\", \"Contratos\", \"SCA_ContratoItemObjeto.xml\")\n",
    "output = npath(\"broken_file\", \"Contratos\", \"SCA_ContratoItemObjeto.xml\",)\n",
    "remove_special_char(inputs, output)\n",
    "time_took = time.time() - start_time\n",
    "print(f\"Total runtime: {hms_string(time_took)}\")"
   ]
  }
 ],
 "metadata": {
  "kernelspec": {
   "display_name": "projeto",
   "language": "python",
   "name": "projeto"
  },
  "language_info": {
   "codemirror_mode": {
    "name": "ipython",
    "version": 3
   },
   "file_extension": ".py",
   "mimetype": "text/x-python",
   "name": "python",
   "nbconvert_exporter": "python",
   "pygments_lexer": "ipython3",
   "version": "3.6.8"
  }
 },
 "nbformat": 4,
 "nbformat_minor": 4
}
